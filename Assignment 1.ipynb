{
 "cells": [
  {
   "cell_type": "code",
   "execution_count": 30,
   "metadata": {},
   "outputs": [],
   "source": [
    "import numpy as np\n",
    "import matplotlib.pyplot as plt"
   ]
  },
  {
   "cell_type": "markdown",
   "metadata": {},
   "source": [
    "# Question 1"
   ]
  },
  {
   "cell_type": "markdown",
   "metadata": {},
   "source": [
    "### (a) Create Function to calculate the length of a vector"
   ]
  },
  {
   "cell_type": "code",
   "execution_count": 31,
   "metadata": {},
   "outputs": [],
   "source": [
    "def VectorLength(x,y):              # Assign variables to x and y\n",
    "    Length = np.sqrt(x**2 + y**2)   # Use the length formula to calculate distance between x and y\n",
    "    return Length                   # Return the answer of this calculation"
   ]
  },
  {
   "cell_type": "markdown",
   "metadata": {},
   "source": [
    "### (b) Test this function with sample inputs"
   ]
  },
  {
   "cell_type": "code",
   "execution_count": 32,
   "metadata": {},
   "outputs": [
    {
     "name": "stdout",
     "output_type": "stream",
     "text": [
      "7.810249675906654\n"
     ]
    }
   ],
   "source": [
    "print(VectorLength(5,6))"
   ]
  },
  {
   "cell_type": "code",
   "execution_count": 33,
   "metadata": {},
   "outputs": [
    {
     "name": "stdout",
     "output_type": "stream",
     "text": [
      "5.0990195135927845\n"
     ]
    }
   ],
   "source": [
    "print(VectorLength(-1,5))"
   ]
  },
  {
   "cell_type": "markdown",
   "metadata": {},
   "source": [
    "### (c) Modify command"
   ]
  },
  {
   "cell_type": "code",
   "execution_count": 34,
   "metadata": {},
   "outputs": [
    {
     "name": "stdout",
     "output_type": "stream",
     "text": [
      "Sin(1) = 0.841\n"
     ]
    }
   ],
   "source": [
    "print(\"Sin(1) = %.3f\" % np.sin(1))"
   ]
  },
  {
   "cell_type": "markdown",
   "metadata": {},
   "source": [
    "# Question 2"
   ]
  },
  {
   "cell_type": "markdown",
   "metadata": {},
   "source": [
    "<b>  Code copied from assignment:"
   ]
  },
  {
   "cell_type": "code",
   "execution_count": 35,
   "metadata": {},
   "outputs": [],
   "source": [
    "#Function to check if a number is prime  \n",
    "def IsPrime(n):\n",
    "    i = 2\n",
    "    while i < np.sqrt(n):\n",
    "        # For each i check if it divides n\n",
    "        if (n % i == 0):\n",
    "            return 0\n",
    "        i += 1\n",
    "    # If no divisors are found, the number is prime\n",
    "    return 1"
   ]
  },
  {
   "cell_type": "markdown",
   "metadata": {},
   "source": [
    "### (a) Does it work correctly? \n",
    "<b> Test function from 1 to 10"
   ]
  },
  {
   "cell_type": "code",
   "execution_count": 36,
   "metadata": {},
   "outputs": [
    {
     "name": "stdout",
     "output_type": "stream",
     "text": [
      "1 : Yes\n",
      "2 : Yes\n",
      "3 : Yes\n",
      "4 : Yes\n",
      "5 : Yes\n",
      "6 : No\n",
      "7 : Yes\n",
      "8 : No\n",
      "9 : Yes\n",
      "10 : No\n"
     ]
    }
   ],
   "source": [
    "j = 1\n",
    "while (j <= 10):                  # Run through Numbers from 1 to 10\n",
    "    answer = IsPrime(j)           # Test each number in IsPrime function\n",
    "    if (answer == 1):\n",
    "        print(\"%d : Yes\" %j)      # Yes if answer is 1\n",
    "    else:\n",
    "        print (\"%d : No\" %j)      # No if answer is 0\n",
    "    j += 1                        # Iterate j"
   ]
  },
  {
   "cell_type": "markdown",
   "metadata": {},
   "source": [
    "### It is clear that this function does not operate correctly. \n",
    "- Fristly, it does not take into account that 1 is not a prime number even though it satisfies the test performed.\n",
    "- It also gives the wrong answer for 4 and 9."
   ]
  },
  {
   "cell_type": "markdown",
   "metadata": {},
   "source": [
    "### (b) Correct for n = 1 case"
   ]
  },
  {
   "cell_type": "code",
   "execution_count": 37,
   "metadata": {},
   "outputs": [],
   "source": [
    "#Function to check if a number is prime  \n",
    "def IsPrime(n):\n",
    "    # Correction for n = 1 case\n",
    "    if (n == 1):\n",
    "        return 0\n",
    "    i = 2\n",
    "    while i < np.sqrt(n):\n",
    "        # For each i check if it divides n\n",
    "        if (n % i == 0):\n",
    "            return 0\n",
    "        i += 1\n",
    "    # If no divisors are found, the number is prime\n",
    "    return 1"
   ]
  },
  {
   "cell_type": "markdown",
   "metadata": {},
   "source": [
    "<b> Test n = 1"
   ]
  },
  {
   "cell_type": "code",
   "execution_count": 38,
   "metadata": {},
   "outputs": [
    {
     "data": {
      "text/plain": [
       "0"
      ]
     },
     "execution_count": 38,
     "metadata": {},
     "output_type": "execute_result"
    }
   ],
   "source": [
    "IsPrime(1)"
   ]
  },
  {
   "cell_type": "markdown",
   "metadata": {},
   "source": [
    "### (c) Why does the function return?"
   ]
  },
  {
   "cell_type": "code",
   "execution_count": 49,
   "metadata": {},
   "outputs": [],
   "source": [
    "#Function to check if a number is prime  \n",
    "def IsPrime(n):\n",
    "    # Correction for n = 1 case\n",
    "    if (n == 1):\n",
    "        return 0\n",
    "    i = 2\n",
    "    while i < np.sqrt(n):\n",
    "        print (\"I have made it into the while loop\")\n",
    "        # For each i check if it divides n\n",
    "        if (n % i == 0):\n",
    "            return 0\n",
    "        i += 1\n",
    "    # If no divisors are found, the number is prime\n",
    "    print (\"I have skipped to here\")\n",
    "    return 1"
   ]
  },
  {
   "cell_type": "markdown",
   "metadata": {},
   "source": [
    "<b> Test 4 and 9"
   ]
  },
  {
   "cell_type": "code",
   "execution_count": 53,
   "metadata": {},
   "outputs": [
    {
     "name": "stdout",
     "output_type": "stream",
     "text": [
      "I have skipped to here\n"
     ]
    },
    {
     "data": {
      "text/plain": [
       "1"
      ]
     },
     "execution_count": 53,
     "metadata": {},
     "output_type": "execute_result"
    }
   ],
   "source": [
    "IsPrime(4)"
   ]
  },
  {
   "cell_type": "code",
   "execution_count": 54,
   "metadata": {},
   "outputs": [
    {
     "name": "stdout",
     "output_type": "stream",
     "text": [
      "I have made it into the while loop\n",
      "I have skipped to here\n"
     ]
    },
    {
     "data": {
      "text/plain": [
       "1"
      ]
     },
     "execution_count": 54,
     "metadata": {},
     "output_type": "execute_result"
    }
   ],
   "source": [
    "IsPrime(9)"
   ]
  },
  {
   "cell_type": "markdown",
   "metadata": {},
   "source": [
    "#### It appears that the i < sqrt(n) does not allow the while loop to run when n = 4\n",
    "We can change this condition allow all possible divisors to be tested. Perhaps testing up to and including $1/2$ of the input number will allow a fair test of all possible divisors"
   ]
  },
  {
   "cell_type": "markdown",
   "metadata": {},
   "source": [
    "#### It also shows that, when n = 9, it does make it into the while loop once but does not enter after i has been iterated\n",
    "This shows us that the sqrt(n) test does not allow the devisors to be reached before leaving the while loop."
   ]
  },
  {
   "cell_type": "markdown",
   "metadata": {},
   "source": [
    "### Fixed function"
   ]
  },
  {
   "cell_type": "code",
   "execution_count": 55,
   "metadata": {},
   "outputs": [],
   "source": [
    "#Function to check if a number is prime  \n",
    "def IsPrime(n):\n",
    "    # Correction for n = 1 case\n",
    "    if (n == 1):\n",
    "        return 0\n",
    "    i = 2\n",
    "    while i <= n/2: #Replace sqrt(n) with (n/2) to allow all divisors to be tested fairly\n",
    "        # For each i check if it divides n\n",
    "        if (n % i == 0):\n",
    "            return 0\n",
    "        i += 1\n",
    "    # If no divisors are found, the number is prime\n",
    "    return 1"
   ]
  },
  {
   "cell_type": "markdown",
   "metadata": {},
   "source": [
    "### Run through 1 to 10 again to text this fix"
   ]
  },
  {
   "cell_type": "code",
   "execution_count": 56,
   "metadata": {},
   "outputs": [
    {
     "name": "stdout",
     "output_type": "stream",
     "text": [
      "1 : No\n",
      "2 : Yes\n",
      "3 : Yes\n",
      "4 : No\n",
      "5 : Yes\n",
      "6 : No\n",
      "7 : Yes\n",
      "8 : No\n",
      "9 : No\n",
      "10 : No\n"
     ]
    }
   ],
   "source": [
    "j = 1\n",
    "while (j <= 10):                  # Run through Numbers from 1 to 10\n",
    "    answer = IsPrime(j)           # Test each number in IsPrime function\n",
    "    if (answer == 1):\n",
    "        print(\"%d : Yes\" %j)      # Yes if answer is 1\n",
    "    else:\n",
    "        print (\"%d : No\" %j)      # No if answer is 0\n",
    "    j += 1                        # Iterate j"
   ]
  },
  {
   "cell_type": "markdown",
   "metadata": {},
   "source": [
    "### This seems to have fixed the problem"
   ]
  },
  {
   "cell_type": "code",
   "execution_count": null,
   "metadata": {},
   "outputs": [],
   "source": []
  },
  {
   "cell_type": "code",
   "execution_count": null,
   "metadata": {},
   "outputs": [],
   "source": []
  },
  {
   "cell_type": "code",
   "execution_count": null,
   "metadata": {},
   "outputs": [],
   "source": []
  }
 ],
 "metadata": {
  "kernelspec": {
   "display_name": "Python 3",
   "language": "python",
   "name": "python3"
  },
  "language_info": {
   "codemirror_mode": {
    "name": "ipython",
    "version": 3
   },
   "file_extension": ".py",
   "mimetype": "text/x-python",
   "name": "python",
   "nbconvert_exporter": "python",
   "pygments_lexer": "ipython3",
   "version": "3.8.3"
  }
 },
 "nbformat": 4,
 "nbformat_minor": 4
}
