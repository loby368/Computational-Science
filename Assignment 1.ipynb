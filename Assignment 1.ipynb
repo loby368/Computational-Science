{
 "cells": [
  {
   "cell_type": "code",
   "execution_count": 1,
   "metadata": {},
   "outputs": [],
   "source": [
    "import numpy as np\n",
    "import matplotlib.pyplot as plt"
   ]
  },
  {
   "cell_type": "markdown",
   "metadata": {},
   "source": [
    "# Question 1"
   ]
  },
  {
   "cell_type": "markdown",
   "metadata": {},
   "source": [
    "### (a) Create Function to calculate the length of a vector"
   ]
  },
  {
   "cell_type": "code",
   "execution_count": 2,
   "metadata": {},
   "outputs": [],
   "source": [
    "def VectorLength(x,y):              # Assign variables to x and y\n",
    "    Length = np.sqrt(x**2 + y**2)   # Use the length formula to calculate distance between x and y\n",
    "    return Length                   # Return the answer of this calculation"
   ]
  },
  {
   "cell_type": "markdown",
   "metadata": {},
   "source": [
    "### (b) Test this function with sample inputs"
   ]
  },
  {
   "cell_type": "code",
   "execution_count": 3,
   "metadata": {},
   "outputs": [
    {
     "name": "stdout",
     "output_type": "stream",
     "text": [
      "7.810249675906654\n"
     ]
    }
   ],
   "source": [
    "print(VectorLength(5,6))"
   ]
  },
  {
   "cell_type": "code",
   "execution_count": 4,
   "metadata": {},
   "outputs": [
    {
     "name": "stdout",
     "output_type": "stream",
     "text": [
      "5.0990195135927845\n"
     ]
    }
   ],
   "source": [
    "print(VectorLength(-1,5))"
   ]
  },
  {
   "cell_type": "markdown",
   "metadata": {},
   "source": [
    "### (c) Modify command"
   ]
  },
  {
   "cell_type": "code",
   "execution_count": 5,
   "metadata": {},
   "outputs": [
    {
     "name": "stdout",
     "output_type": "stream",
     "text": [
      "Sin(1) = 0.841\n"
     ]
    }
   ],
   "source": [
    "print(\"Sin(1) = %.3f\" % np.sin(1))"
   ]
  },
  {
   "cell_type": "markdown",
   "metadata": {},
   "source": [
    "# Question 2"
   ]
  },
  {
   "cell_type": "markdown",
   "metadata": {},
   "source": [
    "<b>  Code copied from assignment:"
   ]
  },
  {
   "cell_type": "code",
   "execution_count": 6,
   "metadata": {},
   "outputs": [],
   "source": [
    "#Function to check if a number is prime  \n",
    "def IsPrime(n):\n",
    "    i = 2\n",
    "    while i < np.sqrt(n):\n",
    "        # For each i check if it divides n\n",
    "        if (n % i == 0):\n",
    "            return 0\n",
    "        i += 1\n",
    "    # If no divisors are found, the number is prime\n",
    "    return 1"
   ]
  },
  {
   "cell_type": "markdown",
   "metadata": {},
   "source": [
    "### (a) Does it work correctly? \n",
    "<b> Test function from 1 to 10"
   ]
  },
  {
   "cell_type": "code",
   "execution_count": 7,
   "metadata": {},
   "outputs": [
    {
     "name": "stdout",
     "output_type": "stream",
     "text": [
      "1 : Yes\n",
      "2 : Yes\n",
      "3 : Yes\n",
      "4 : Yes\n",
      "5 : Yes\n",
      "6 : No\n",
      "7 : Yes\n",
      "8 : No\n",
      "9 : Yes\n",
      "10 : No\n"
     ]
    }
   ],
   "source": [
    "j = 1\n",
    "while (j <= 10):                  # Run through Numbers from 1 to 10\n",
    "    answer = IsPrime(j)           # Test each number in IsPrime function\n",
    "    if (answer == 1):\n",
    "        print(\"%d : Yes\" %j)      # Yes if answer is 1\n",
    "    else:\n",
    "        print (\"%d : No\" %j)      # No if answer is 0\n",
    "    j += 1                        # Iterate j"
   ]
  },
  {
   "cell_type": "markdown",
   "metadata": {},
   "source": [
    "### It is clear that this function does not operate correctly. \n",
    "- Fristly, it does not take into account that 1 is not a prime number even though it satisfies the test performed.\n",
    "- It also gives the wrong answer for 4 and 9."
   ]
  },
  {
   "cell_type": "markdown",
   "metadata": {},
   "source": [
    "### (b) Correct for n = 1 case"
   ]
  },
  {
   "cell_type": "code",
   "execution_count": 8,
   "metadata": {},
   "outputs": [],
   "source": [
    "#Function to check if a number is prime  \n",
    "def IsPrime(n):\n",
    "    # Correction for n = 1 case\n",
    "    if (n == 1):\n",
    "        return 0\n",
    "    i = 2\n",
    "    while i < np.sqrt(n):\n",
    "        # For each i check if it divides n\n",
    "        if (n % i == 0):\n",
    "            return 0\n",
    "        i += 1\n",
    "    # If no divisors are found, the number is prime\n",
    "    return 1"
   ]
  },
  {
   "cell_type": "markdown",
   "metadata": {},
   "source": [
    "<b> Test n = 1"
   ]
  },
  {
   "cell_type": "code",
   "execution_count": 9,
   "metadata": {},
   "outputs": [
    {
     "data": {
      "text/plain": [
       "0"
      ]
     },
     "execution_count": 9,
     "metadata": {},
     "output_type": "execute_result"
    }
   ],
   "source": [
    "IsPrime(1)"
   ]
  },
  {
   "cell_type": "markdown",
   "metadata": {},
   "source": [
    "### (c) Why does the function return?"
   ]
  },
  {
   "cell_type": "code",
   "execution_count": 10,
   "metadata": {},
   "outputs": [],
   "source": [
    "#Function to check if a number is prime  \n",
    "def IsPrime(n):\n",
    "    # Correction for n = 1 case\n",
    "    if (n == 1):\n",
    "        return 0\n",
    "    i = 2\n",
    "    while i < np.sqrt(n):\n",
    "        print (\"I have made it into the while loop\")\n",
    "        # For each i check if it divides n\n",
    "        if (n % i == 0):\n",
    "            return 0\n",
    "        i += 1\n",
    "    # If no divisors are found, the number is prime\n",
    "    print (\"I have skipped to here\")\n",
    "    return 1"
   ]
  },
  {
   "cell_type": "markdown",
   "metadata": {},
   "source": [
    "<b> Test 4 and 9"
   ]
  },
  {
   "cell_type": "code",
   "execution_count": 11,
   "metadata": {},
   "outputs": [
    {
     "name": "stdout",
     "output_type": "stream",
     "text": [
      "I have skipped to here\n"
     ]
    },
    {
     "data": {
      "text/plain": [
       "1"
      ]
     },
     "execution_count": 11,
     "metadata": {},
     "output_type": "execute_result"
    }
   ],
   "source": [
    "IsPrime(4)"
   ]
  },
  {
   "cell_type": "code",
   "execution_count": 12,
   "metadata": {},
   "outputs": [
    {
     "name": "stdout",
     "output_type": "stream",
     "text": [
      "I have made it into the while loop\n",
      "I have skipped to here\n"
     ]
    },
    {
     "data": {
      "text/plain": [
       "1"
      ]
     },
     "execution_count": 12,
     "metadata": {},
     "output_type": "execute_result"
    }
   ],
   "source": [
    "IsPrime(9)"
   ]
  },
  {
   "cell_type": "markdown",
   "metadata": {},
   "source": [
    "#### It appears that the i < sqrt(n) does not allow the while loop to run when n = 4\n",
    "We can change this condition allow all possible divisors to be tested. Perhaps testing up to and including $1/2$ of the input number will allow a fair test of all possible divisors"
   ]
  },
  {
   "cell_type": "markdown",
   "metadata": {},
   "source": [
    "#### It also shows that, when n = 9, it does make it into the while loop once but does not enter after i has been iterated\n",
    "This shows us that the sqrt(n) test does not allow the devisors to be reached before leaving the while loop."
   ]
  },
  {
   "cell_type": "markdown",
   "metadata": {},
   "source": [
    "### Fixed function"
   ]
  },
  {
   "cell_type": "code",
   "execution_count": 13,
   "metadata": {},
   "outputs": [],
   "source": [
    "#Function to check if a number is prime  \n",
    "def IsPrime(n):\n",
    "    # Correction for n = 1 case\n",
    "    if (n == 1):\n",
    "        return 0\n",
    "    i = 2\n",
    "    while i <= n/2: #Replace sqrt(n) with (n/2) to allow all divisors to be tested fairly\n",
    "        # For each i check if it divides n\n",
    "        if (n % i == 0):\n",
    "            return 0\n",
    "        i += 1\n",
    "    # If no divisors are found, the number is prime\n",
    "    return 1"
   ]
  },
  {
   "cell_type": "markdown",
   "metadata": {},
   "source": [
    "### Run through 1 to 10 again to text this fix"
   ]
  },
  {
   "cell_type": "code",
   "execution_count": 14,
   "metadata": {},
   "outputs": [
    {
     "name": "stdout",
     "output_type": "stream",
     "text": [
      "1 : No\n",
      "2 : Yes\n",
      "3 : Yes\n",
      "4 : No\n",
      "5 : Yes\n",
      "6 : No\n",
      "7 : Yes\n",
      "8 : No\n",
      "9 : No\n",
      "10 : No\n"
     ]
    }
   ],
   "source": [
    "j = 1\n",
    "while (j <= 10):                  # Run through Numbers from 1 to 10\n",
    "    if (IsPrime(j) == 1):         # Test each number in IsPrime function\n",
    "        print(\"%d : Yes\" %j)      # Yes if answer is 1\n",
    "    else:\n",
    "        print (\"%d : No\" %j)      # No if answer is 0\n",
    "    j += 1                        # Iterate j"
   ]
  },
  {
   "cell_type": "markdown",
   "metadata": {},
   "source": [
    "### This seems to have fixed the problem"
   ]
  },
  {
   "cell_type": "markdown",
   "metadata": {},
   "source": [
    "### (e) Number of prime numbers below 1000"
   ]
  },
  {
   "cell_type": "code",
   "execution_count": 15,
   "metadata": {
    "scrolled": true
   },
   "outputs": [
    {
     "name": "stdout",
     "output_type": "stream",
     "text": [
      "There are 168 Prime numbers below 1000\n"
     ]
    }
   ],
   "source": [
    "# Define variable to count iterations of while loop\n",
    "k = 1\n",
    "# Initialise counter to keep track of prime number count\n",
    "counter = 0\n",
    "\n",
    "while (k < 1000):\n",
    "    if (IsPrime(k) == 1):\n",
    "        counter += 1\n",
    "    k += 1\n",
    "print (\"There are %d Prime numbers below 1000\" %counter)"
   ]
  },
  {
   "cell_type": "markdown",
   "metadata": {},
   "source": [
    "### (f) $\\pi(x)$"
   ]
  },
  {
   "cell_type": "code",
   "execution_count": 16,
   "metadata": {},
   "outputs": [],
   "source": [
    "def PrimeCount(x):\n",
    "    i = 1\n",
    "    counter = 0\n",
    "    \n",
    "    while (i <= x):\n",
    "        if (IsPrime(i) == 1):\n",
    "            counter += 1\n",
    "        i += 1\n",
    "    return counter"
   ]
  },
  {
   "cell_type": "markdown",
   "metadata": {},
   "source": [
    "<b> Test numbers 1,000 & 10,000"
   ]
  },
  {
   "cell_type": "code",
   "execution_count": 17,
   "metadata": {},
   "outputs": [
    {
     "name": "stdout",
     "output_type": "stream",
     "text": [
      "There are 168 Primes below 1000\n"
     ]
    }
   ],
   "source": [
    "x = 1000\n",
    "print(\"There are %d Primes below %d\" % (PrimeCount(x), x))"
   ]
  },
  {
   "cell_type": "code",
   "execution_count": 18,
   "metadata": {},
   "outputs": [
    {
     "name": "stdout",
     "output_type": "stream",
     "text": [
      "There are 1229 Primes below 10000\n"
     ]
    }
   ],
   "source": [
    "x = 10000\n",
    "print(\"There are %d Primes below %d\" % (PrimeCount(x), x))"
   ]
  },
  {
   "cell_type": "markdown",
   "metadata": {},
   "source": [
    "### (g) Plot primes less than 40"
   ]
  },
  {
   "cell_type": "markdown",
   "metadata": {},
   "source": [
    "<b> Code copied from assignment:"
   ]
  },
  {
   "cell_type": "code",
   "execution_count": 19,
   "metadata": {},
   "outputs": [],
   "source": [
    "x = np.arange(0,40,1)\n",
    "Pi = np.zeros(40)\n",
    "i = 0\n",
    "while i < np.size(Pi):\n",
    "    Pi[i] = PrimeCount(i)\n",
    "    i += 1"
   ]
  },
  {
   "cell_type": "code",
   "execution_count": 20,
   "metadata": {},
   "outputs": [
    {
     "data": {
      "text/plain": [
       "[<matplotlib.lines.Line2D at 0x1463f931190>]"
      ]
     },
     "execution_count": 20,
     "metadata": {},
     "output_type": "execute_result"
    },
    {
     "data": {
      "image/png": "[encoded data removed]",
      "text/plain": [
       "<Figure size 432x288 with 1 Axes>"
      ]
     },
     "metadata": {
      "needs_background": "light"
     },
     "output_type": "display_data"
    }
   ],
   "source": [
    "plt.plot(x, Pi, 'ro')"
   ]
  },
  {
   "cell_type": "markdown",
   "metadata": {},
   "source": [
    "<b> New Plot"
   ]
  },
  {
   "cell_type": "code",
   "execution_count": 21,
   "metadata": {
    "scrolled": true
   },
   "outputs": [
    {
     "data": {
      "text/plain": [
       "Text(0.5, 0, 'x')"
      ]
     },
     "execution_count": 21,
     "metadata": {},
     "output_type": "execute_result"
    },
    {
     "data": {
      "image/png": "[encoded data removed]",
      "text/plain": [
       "<Figure size 432x288 with 1 Axes>"
      ]
     },
     "metadata": {
      "needs_background": "light"
     },
     "output_type": "display_data"
    }
   ],
   "source": [
    "plt.plot(x, Pi, 'ro')\n",
    "plt.grid(True)\n",
    "plt.ylabel('Pi(x)')\n",
    "plt.xlabel('x')"
   ]
  },
  {
   "cell_type": "markdown",
   "metadata": {},
   "source": [
    "# Question 3"
   ]
  },
  {
   "cell_type": "markdown",
   "metadata": {},
   "source": [
    "### (b) Load file"
   ]
  },
  {
   "cell_type": "code",
   "execution_count": 34,
   "metadata": {},
   "outputs": [],
   "source": [
    "# The r before the file address changes it from a normal string to a raw string\n",
    "# This has allowed me to overcome the unicode error that was occuring as the compiler tried to read the \\ as a special character\n",
    "data = np.loadtxt(r\"C:\\Users\\louib\\Computational Science\\Computational Science Repository\\Computational-Science\\PowerLawOrExponential.txt\")\n",
    "x = data[:,0]\n",
    "y = data[:,1]"
   ]
  },
  {
   "cell_type": "markdown",
   "metadata": {},
   "source": [
    "### (c) Plot data"
   ]
  },
  {
   "cell_type": "markdown",
   "metadata": {},
   "source": [
    "<b> Log Plot"
   ]
  },
  {
   "cell_type": "code",
   "execution_count": 44,
   "metadata": {},
   "outputs": [
    {
     "data": {
      "image/png": "[encoded data removed]",
      "text/plain": [
       "<Figure size 432x288 with 1 Axes>"
      ]
     },
     "metadata": {
      "needs_background": "light"
     },
     "output_type": "display_data"
    }
   ],
   "source": [
    "plt.plot(x,y)\n",
    "plt.grid(True)\n",
    "plt.xlabel('x')\n",
    "plt.ylabel('y')\n",
    "plt.title('Log Plot')\n",
    "plt.yscale('log')"
   ]
  },
  {
   "cell_type": "markdown",
   "metadata": {},
   "source": [
    "<b> Log-Log Plot"
   ]
  },
  {
   "cell_type": "code",
   "execution_count": 47,
   "metadata": {},
   "outputs": [
    {
     "data": {
      "image/png": "[encoded data removed]",
      "text/plain": [
       "<Figure size 432x288 with 1 Axes>"
      ]
     },
     "metadata": {
      "needs_background": "light"
     },
     "output_type": "display_data"
    }
   ],
   "source": [
    "plt.plot(x,y)\n",
    "plt.grid(True)\n",
    "plt.xlabel('x')\n",
    "plt.ylabel('y')\n",
    "plt.title('Log-Log Plot')\n",
    "plt.yscale('log')\n",
    "plt.xscale('log')"
   ]
  },
  {
   "cell_type": "markdown",
   "metadata": {},
   "source": [
    "### (d) $x^n$ or $e^{nx}$ ?\n",
    "\n",
    "The Data appears to be a discrete representation of the Power Law.\n",
    "\n",
    "- When plotted on a Log-Log axis, the data creates a straight line through the origin with slope $n = 11$\n",
    "- It also creates a curved line on a Log plot which rules out an exponential structure to the data set."
   ]
  },
  {
   "cell_type": "markdown",
   "metadata": {},
   "source": [
    "### (e) Value of n"
   ]
  },
  {
   "cell_type": "code",
   "execution_count": 50,
   "metadata": {},
   "outputs": [
    {
     "name": "stdout",
     "output_type": "stream",
     "text": [
      "n = 11\n"
     ]
    }
   ],
   "source": [
    "n = (10**2 - 10**0)/(10**1 - 10**0)\n",
    "print(\"n = %d\" %n)"
   ]
  }
 ],
 "metadata": {
  "kernelspec": {
   "display_name": "Python 3",
   "language": "python",
   "name": "python3"
  },
  "language_info": {
   "codemirror_mode": {
    "name": "ipython",
    "version": 3
   },
   "file_extension": ".py",
   "mimetype": "text/x-python",
   "name": "python",
   "nbconvert_exporter": "python",
   "pygments_lexer": "ipython3",
   "version": "3.8.3"
  }
 },
 "nbformat": 4,
 "nbformat_minor": 4
}
