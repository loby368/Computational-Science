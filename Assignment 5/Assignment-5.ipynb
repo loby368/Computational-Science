{
 "cells": [
  {
   "cell_type": "markdown",
   "metadata": {},
   "source": [
    "#  Assignment 5\n",
    "\n",
    "This assignment covers material on matrices, norms, condition numbers and eigensystems.\n",
    "\n",
    "The breakdown of the marks is as follows:\n",
    "\n",
    "Question 0 - [1 mark]  \n",
    "Question 1 - [7 marks]  \n",
    "Questino 2 - [6 marks]  \n",
    "Question 3 - [7 marks]  \n",
    "Question 4 - [9 marks]  "
   ]
  },
  {
   "cell_type": "markdown",
   "metadata": {},
   "source": [
    "# Question 0\n",
    "\n",
    "You should have saved this notebook to your ACM20030-Assignments folder. Now:\n",
    "- commit the notebook to your local repository\n",
    "- push the changes to the GitHub"
   ]
  },
  {
   "cell_type": "code",
   "execution_count": 1,
   "metadata": {},
   "outputs": [],
   "source": [
    "import numpy as np\n",
    "from numpy import linalg as la\n",
    "np.set_printoptions(linewidth=200)  # This stops line wrapping of larger matrices"
   ]
  },
  {
   "cell_type": "markdown",
   "metadata": {},
   "source": [
    "# Question 1 - practice manipulating arrays\n",
    "\n",
    "This questions asks you write a few functions for manipulating arrays of data"
   ]
  },
  {
   "cell_type": "markdown",
   "metadata": {},
   "source": [
    "## Q1 a\n",
    "\n",
    "Write a function that checks if a given $n\\times n$ matrix is symmetric. Use only loops and `.shape` function from numpy (do not use any other special numpy functions)."
   ]
  },
  {
   "cell_type": "code",
   "execution_count": 2,
   "metadata": {},
   "outputs": [],
   "source": [
    "def symmetric(a):\n",
    "    \n",
    "    (r,c) = a.shape #r = row, c = collumn\n",
    "    # Must be square to be symmetric\n",
    "    if (r != c):\n",
    "        print('Matrix must be square')\n",
    "        return 0\n",
    "    \n",
    "    #Compare a[i,j] to a[j,i], return 0 if any instance is false (Output of 0 can be used later if needed)\n",
    "    i = 0\n",
    "    while i < r:\n",
    "        j = 0\n",
    "        while j < c:\n",
    "            if a[i,j] != a[j,i]:\n",
    "                print ('Matrix is not symmetric')\n",
    "                return 0\n",
    "            j += 1\n",
    "        i += 1\n",
    "\n",
    "    #No instance was false, therefore matrix is symmetric\n",
    "    print('Matrix is Symmetric')\n",
    "    return 1"
   ]
  },
  {
   "cell_type": "markdown",
   "metadata": {},
   "source": [
    "Test your function on the two matrices below"
   ]
  },
  {
   "cell_type": "code",
   "execution_count": 3,
   "metadata": {},
   "outputs": [],
   "source": [
    "A = np.random.rand(5,5)\n",
    "SymMatrix = (A + A.T)/2"
   ]
  },
  {
   "cell_type": "code",
   "execution_count": 4,
   "metadata": {},
   "outputs": [
    {
     "name": "stdout",
     "output_type": "stream",
     "text": [
      "Matrix is not symmetric\n"
     ]
    }
   ],
   "source": [
    "symmetric(A);"
   ]
  },
  {
   "cell_type": "code",
   "execution_count": 5,
   "metadata": {},
   "outputs": [
    {
     "name": "stdout",
     "output_type": "stream",
     "text": [
      "Matrix is Symmetric\n"
     ]
    }
   ],
   "source": [
    "symmetric(SymMatrix);"
   ]
  },
  {
   "cell_type": "markdown",
   "metadata": {},
   "source": [
    "## Q1 b\n",
    "\n",
    "Write a function to transpose a general $n\\times n$ matrix. Do this by writing loops and not using any special functions like `np.transpose()`, `A.T`, or any functions from any other library (`np.zeroes`, `np.ones`, `np.shape`, etc are all ok to use)."
   ]
  },
  {
   "cell_type": "code",
   "execution_count": 6,
   "metadata": {},
   "outputs": [],
   "source": [
    "def transpose(a):\n",
    "\n",
    "    (r,c) = a.shape\n",
    "    \n",
    "    #Create new matrix b and write a[i,j] into b[j,i]\n",
    "    b = np.zeros((r,c))\n",
    "    i = 0\n",
    "    while i < r:\n",
    "        j = 0\n",
    "        while j < c:\n",
    "            b[j,i] = a[i,j]\n",
    "            j += 1\n",
    "        i += 1\n",
    "    return b"
   ]
  },
  {
   "cell_type": "markdown",
   "metadata": {},
   "source": [
    "Check your code by transposing a matrix by checking that $A^T \\neq A$ and $(A^T)^T - A = 0$"
   ]
  },
  {
   "cell_type": "code",
   "execution_count": 7,
   "metadata": {
    "scrolled": false
   },
   "outputs": [
    {
     "name": "stdout",
     "output_type": "stream",
     "text": [
      "[[0.12512921 0.88304593]\n",
      " [0.06504489 0.01639706]]\n",
      "\n",
      " [[0.12512921 0.06504489]\n",
      " [0.88304593 0.01639706]]\n"
     ]
    }
   ],
   "source": [
    "#Visual Test\n",
    "A = np.random.rand(2,2);\n",
    "print(A)\n",
    "print('\\n',transpose(A))"
   ]
  },
  {
   "cell_type": "code",
   "execution_count": 8,
   "metadata": {},
   "outputs": [
    {
     "name": "stdout",
     "output_type": "stream",
     "text": [
      "A has been correctly transposed\n"
     ]
    }
   ],
   "source": [
    "A = np.random.rand(6,6);\n",
    "AT = transpose(A)\n",
    "ATT = transpose(AT)\n",
    "\n",
    "#Test if AT != A\n",
    "(r,c) = A.shape\n",
    "i = 0\n",
    "while i < r:\n",
    "    j = 0\n",
    "    while j < c:\n",
    "        if A[i,j] != AT[i,j]:\n",
    "            Condition_A = 1\n",
    "            break\n",
    "        else:\n",
    "            Condition_A = 0\n",
    "            break\n",
    "        j += 1\n",
    "    i += 1\n",
    "\n",
    "#Test (AT)T - A = 0\n",
    "i = 0\n",
    "while i < r:\n",
    "    j = 0\n",
    "    while j < c:\n",
    "        if ATT[i,j] - A[i,j] == 0:\n",
    "            Condition_B = 1\n",
    "            break\n",
    "        else:\n",
    "            Condition_B = 0\n",
    "            break\n",
    "        j += 1\n",
    "    i += 1\n",
    "\n",
    "#Test Condition_A and Condition_B simultaneously\n",
    "if (Condition_A and Condition_B):\n",
    "    print('A has been correctly transposed')\n",
    "else:\n",
    "    print('A has Not been correctly transposed')"
   ]
  },
  {
   "cell_type": "markdown",
   "metadata": {},
   "source": [
    "## Q1c\n",
    "\n",
    "Write a function that finds the maximum entry in a matrix (where the matrix does not need to be square). Do this by writing loops and not using any special functions like `np.max` or any functions from any other library."
   ]
  },
  {
   "cell_type": "code",
   "execution_count": 9,
   "metadata": {},
   "outputs": [],
   "source": [
    "def maxentry(a):\n",
    "    (r,c) = a.shape\n",
    "    i = 0\n",
    "    maxentry = 0\n",
    "    while i < r:\n",
    "        j = 0\n",
    "        while j < c:\n",
    "            if a[i,j] > maxentry:\n",
    "                maxentry = a[i,j]\n",
    "            j += 1\n",
    "        i += 1\n",
    "    return maxentry"
   ]
  },
  {
   "cell_type": "markdown",
   "metadata": {},
   "source": [
    "Check your result by comparing to `np.max(A)` for the below random matrix"
   ]
  },
  {
   "cell_type": "code",
   "execution_count": 10,
   "metadata": {},
   "outputs": [
    {
     "name": "stdout",
     "output_type": "stream",
     "text": [
      "maxentry function: 0.9374053403905801\n",
      "np.max() function: 0.9374053403905801\n"
     ]
    }
   ],
   "source": [
    "A = np.random.rand(4,5)\n",
    "\n",
    "print('maxentry function:', maxentry(A))\n",
    "print('np.max() function:', np.max(A))"
   ]
  },
  {
   "cell_type": "markdown",
   "metadata": {},
   "source": [
    "Commit your notebook to git and push it to GitHub.\n",
    "\n",
    "# Question 2:  matrix norms\n",
    "\n",
    "In the lectures we focused on the $L^2$-norm. We also briefly mentioned the $L^1$ and $L^\\infty$ norm. Let's look at calculating those as well for a general $m\\times n$ matrix."
   ]
  },
  {
   "cell_type": "markdown",
   "metadata": {},
   "source": [
    "# Q2a\n",
    "\n",
    "The $L^1$ norm is given by\n",
    "\n",
    "$$ \\lVert A \\rVert_1 = \\max_j \\sum^m_{i=1} |a_{ij}| $$\n",
    "\n",
    "i.e., it is the max of the sums of the absolute values of each column. Write a function that computes the $L^1$-norm using only loops. The function should use no special numpy functions except `np.abs()` (`np.shape`, `np.inf`, etc are ok to use)."
   ]
  },
  {
   "cell_type": "code",
   "execution_count": 11,
   "metadata": {},
   "outputs": [],
   "source": [
    "def L1norm(a):\n",
    "    (r,c) = a.shape\n",
    "    Csum = 0\n",
    "    Csummax = 0\n",
    "    \n",
    "    j = 0\n",
    "    while j < c:\n",
    "        i = 0\n",
    "        while i < r:\n",
    "            Csum += abs(a[i,j])\n",
    "            i += 1\n",
    "        if Csum > Csummax:\n",
    "            Csummax = Csum\n",
    "        #Re-set Csum to 0\n",
    "        Csum = 0\n",
    "        j += 1\n",
    "        \n",
    "    return Csummax"
   ]
  },
  {
   "cell_type": "markdown",
   "metadata": {},
   "source": [
    "Check your result against NumPy's `la.norm(A,1)` function for the following random matrix"
   ]
  },
  {
   "cell_type": "code",
   "execution_count": 12,
   "metadata": {},
   "outputs": [
    {
     "name": "stdout",
     "output_type": "stream",
     "text": [
      "L1norm function: 1.9977715504469207\n",
      "np.norm function: 1.9977715504469207\n"
     ]
    }
   ],
   "source": [
    "A = np.random.rand(3,4)\n",
    "\n",
    "print('L1norm function:', L1norm(A))\n",
    "print('np.norm function:', la.norm(A, 1))"
   ]
  },
  {
   "cell_type": "markdown",
   "metadata": {},
   "source": [
    "## Q2b\n",
    "\n",
    "The $L^\\infty$ norm is given by \n",
    "\n",
    "$$\\lVert A \\rVert_\\infty = \\max_i \\sum_{j=1}^n |a_{ij}|$$\n",
    "\n",
    "i.e., it is the max of the sums of the absolute values of each row. Write a function that computes the $L^\\infty$-norm using only loops and no special numpy functions."
   ]
  },
  {
   "cell_type": "code",
   "execution_count": 13,
   "metadata": {},
   "outputs": [],
   "source": [
    "def Linfnorm(a):\n",
    "    (r,c) = a.shape\n",
    "    Rsum = 0\n",
    "    Rsummax = 0\n",
    "    \n",
    "    i = 0\n",
    "    while i < r:\n",
    "        j = 0\n",
    "        while j < c:\n",
    "            Rsum += abs(a[i,j])\n",
    "            j += 1\n",
    "        if Rsum > Rsummax:\n",
    "            Rsummax = Rsum\n",
    "        #Re-set Csum to 0\n",
    "        Rsum = 0\n",
    "        i += 1\n",
    "        \n",
    "    return Rsummax"
   ]
  },
  {
   "cell_type": "markdown",
   "metadata": {},
   "source": [
    "Check your result against NumPy's `la.norm(A,np.inf)` function for the following random matrix"
   ]
  },
  {
   "cell_type": "code",
   "execution_count": 14,
   "metadata": {},
   "outputs": [
    {
     "name": "stdout",
     "output_type": "stream",
     "text": [
      "Linfnorm function: 2.3319136685808814\n",
      "np.norm function: 2.3319136685808814\n"
     ]
    }
   ],
   "source": [
    "A = np.random.rand(3,4)\n",
    "\n",
    "print('Linfnorm function:', Linfnorm(A))\n",
    "print('np.norm function:', la.norm(A, np.inf))"
   ]
  },
  {
   "cell_type": "markdown",
   "metadata": {},
   "source": [
    "Commit your notebook to git and push it to GitHub.\n",
    "\n",
    "# Question 3: ill-conditions systems of equations\n",
    "\n",
    "In this question you can use any of NumPy's functions.\n",
    "\n",
    "## Q3a\n",
    "\n",
    "Which of the following three matrices, $A1, A2, A3$, are ill-conditioned. State the reason for your conclusion."
   ]
  },
  {
   "cell_type": "code",
   "execution_count": 15,
   "metadata": {},
   "outputs": [],
   "source": [
    "A1 = np.array([[ 2.852416473483e-01,  3.803483118694e-01,  2.697704226632e-01,  6.810611849029e-01],\n",
    "       [ 6.622827828376e-01,  6.447943415836e-01,  4.387842058829e-01,  1.530575702376e+00],\n",
    "       [ 3.672130860703e-01,  8.309522079704e-01,  9.975487474007e-01,  5.678296337101e-01],\n",
    "       [ 4.036490000599e-01,  6.865978225967e-06,  8.788095913773e-01, -7.150472427928e-02]])\n",
    "\n",
    "A2 = np.array([[0.988746460106, 0.351486109477, 0.024911477532, 0.384039749683],\n",
    "       [0.282104657306, 0.239884151775, 0.36170151991 , 0.903082266861],\n",
    "       [0.59333290915 , 0.637178863968, 0.241229214635, 0.685595037901],\n",
    "       [0.013591747828, 0.917926970364, 0.458689093885, 0.157821121254]])\n",
    "\n",
    "A3 = np.array([[0.131923621844, 0.245316154195, 0.732362341613, 0.957047891764],\n",
    "       [0.91290446184 , 0.512312007959, 0.391938831444, 0.092509684772],\n",
    "       [0.648708523652, 0.608576675797, 0.576773587276, 0.065385122929],\n",
    "       [0.502955480393, 0.084082960221, 0.659487390444, 0.662958739412]])"
   ]
  },
  {
   "cell_type": "code",
   "execution_count": 16,
   "metadata": {},
   "outputs": [
    {
     "name": "stdout",
     "output_type": "stream",
     "text": [
      "Condition number of A1:\t 13334936994.070848\n",
      "Condition number of A2:\t 21.552466488381846\n",
      "Condition number of A3:\t 15.12244969941062\n"
     ]
    }
   ],
   "source": [
    "#Find the condition numbers (Larger ones are ill-conditioned)\n",
    "\n",
    "print(\"Condition number of A1:\\t\", la.cond(A1,2))\n",
    "print(\"Condition number of A2:\\t\", la.cond(A2,2))\n",
    "print(\"Condition number of A3:\\t\", la.cond(A3,2))"
   ]
  },
  {
   "cell_type": "markdown",
   "metadata": {},
   "source": [
    "### Matrix A1 has a very large conditition number, hence we can say that A1 is close to singular\n",
    "This means that A1 is most likely ill-conditioned (without explicitly proving it)"
   ]
  },
  {
   "cell_type": "markdown",
   "metadata": {},
   "source": [
    "# Q3b\n",
    "\n",
    "With $b = [1,2,3,4]$ and $\\delta b = [0.1,0,0,0]$ for $A1$ and $A2$ calculate the percentage change in $x$ due to a small change in $b$, i.e., calculate \n",
    "\n",
    "$$100\\times\\frac{\\lVert \\delta x_i\\rVert_2}{\\lVert x_i \\rVert_2}\\quad\\text{and}\\quad 100\\times\\frac{\\lVert \\delta b\\rVert_2}{\\lVert b \\rVert_2}$$\n",
    "\n",
    "where $(x_i+\\delta x_i)  = A_i^{-1}(b+\\delta b)$ and $i\\in\\{1,2\\}$."
   ]
  },
  {
   "cell_type": "code",
   "execution_count": 17,
   "metadata": {},
   "outputs": [],
   "source": [
    "def GaussianElimination(A, b):\n",
    "    n = A.shape[1]\n",
    "    \n",
    "    # Append the vector b as a column to the matrix A\n",
    "    A1 = np.c_[A,b]\n",
    "    \n",
    "    i = 0\n",
    "    while i < n - 1:\n",
    "        j = i+1\n",
    "        while j < n:\n",
    "            A1[j, i+1:] = A1[j, i+1:] - A1[i, i+1:]*A1[j,i]/A1[i,i]\n",
    "            j += 1\n",
    "        i += 1\n",
    "        \n",
    "    x = np.zeros(n)\n",
    "    \n",
    "    i = n-1\n",
    "    while i >= 0:\n",
    "        j = i\n",
    "        x[i] = A1[i,n]\n",
    "        while j < n-1:\n",
    "            x[i] -= A1[i,j+1]*x[j+1]\n",
    "            j += 1\n",
    "        x[i] = x[i]/A1[i,i]\n",
    "        i -= 1\n",
    "    \n",
    "    return x"
   ]
  },
  {
   "cell_type": "code",
   "execution_count": 18,
   "metadata": {},
   "outputs": [],
   "source": [
    "def L2Norm(v):\n",
    "    return la.norm(v,2)"
   ]
  },
  {
   "cell_type": "code",
   "execution_count": 19,
   "metadata": {},
   "outputs": [
    {
     "name": "stdout",
     "output_type": "stream",
     "text": [
      "Change in b = 1.83%\n",
      "Change in x1 = 512.62%\n",
      "Change in x2 = 10.48%\n"
     ]
    }
   ],
   "source": [
    "b = np.array([1, 2, 3, 4])\n",
    "db = np.array([0.1, 0, 0 , 0])\n",
    "bp = b + db\n",
    "\n",
    "x1 = GaussianElimination(A1,b)\n",
    "x2 = GaussianElimination(A2,b)\n",
    "xp1 = GaussianElimination(A1,bp)\n",
    "xp2 = GaussianElimination(A2,bp)\n",
    "\n",
    "print(\"Change in b = %.2f%%\" % (100*L2Norm(bp-b)/L2Norm(b)))\n",
    "print(\"Change in x1 = %.2f%%\" % (100*L2Norm(xp1-x1)/L2Norm(x1)))\n",
    "print(\"Change in x2 = %.2f%%\" % (100*L2Norm(xp2-x2)/L2Norm(x2)))"
   ]
  },
  {
   "cell_type": "markdown",
   "metadata": {},
   "source": [
    "Which system of equations is more sensitive to small changes in $b$? How could you have guessed this from the answer to the Q3a?"
   ]
  },
  {
   "cell_type": "markdown",
   "metadata": {},
   "source": [
    "### Matrix A1 is the most sensitive to small changes in b.\n",
    "A change in b of 1.83% causes a change in x1 of 512.62%\n",
    "\n",
    "I would have guessed this from Q3(a) because A1 is an ill-conditioned numbers which, in general, can be more sensitive to small changes in b."
   ]
  },
  {
   "cell_type": "markdown",
   "metadata": {},
   "source": [
    "Commit your notebook to git and push it to GitHub.\n",
    "\n",
    "# Question 4: eigensystems\n",
    "\n",
    "In this question we look at finding eigenvalues and eigenvectors\n",
    "\n",
    "## Q4a\n",
    "\n",
    "You may use any of NumPy's functions for this sub-question.\n",
    "\n",
    "Find the eigenvalues and eigenvectors for the below matrix. Print out the eigenvalues sorted by descending value and explicitly show that eigenvalues/eigenvector pairs satisfy $Ax = \\lambda x$."
   ]
  },
  {
   "cell_type": "code",
   "execution_count": 20,
   "metadata": {},
   "outputs": [],
   "source": [
    "A = np.array([[1,4,5],[4,5,4],[6,7,9]])"
   ]
  },
  {
   "cell_type": "code",
   "execution_count": 21,
   "metadata": {},
   "outputs": [
    {
     "name": "stdout",
     "output_type": "stream",
     "text": [
      "Eigenvalues =  [15.78569318 -2.05164645  1.26595327]\n",
      "Sorted Eigenvalues =  [-2.05164645  1.26595327 15.78569318]\n",
      "\n",
      "Eigenvector 0 =  [-0.39252008 -0.44424151 -0.80534308]\n",
      "Eigenvector 1 =  [-0.89589878  0.36255198  0.25675168]\n",
      "Eigenvector 2 =  [ 0.09818766 -0.77454142  0.6248558 ]\n"
     ]
    }
   ],
   "source": [
    "eigs = la.eig(A)\n",
    "\n",
    "print(\"Eigenvalues = \", eigs[0])\n",
    "print(\"Sorted Eigenvalues = \", np.sort(eigs[0]))\n",
    "print(\"\\nEigenvector 0 = \", eigs[1][:,0]) #Eigenvectors are collumns of eigs[1]\n",
    "print(\"Eigenvector 1 = \", eigs[1][:,1])\n",
    "print(\"Eigenvector 2 = \", eigs[1][:,2])"
   ]
  },
  {
   "cell_type": "code",
   "execution_count": 22,
   "metadata": {},
   "outputs": [
    {
     "name": "stdout",
     "output_type": "stream",
     "text": [
      "Eigenvector 0\n",
      "Left Hand Side: [ -6.1962015   -7.01266016 -12.71289871]\n",
      "RightHand Side: [ -6.1962015   -7.01266016 -12.71289871]\n",
      "\n",
      "Eigenvector 1\n",
      "Left Hand Side: [ 1.83806756 -0.74382849 -0.52676368]\n",
      "RightHand Side: [ 1.83806756 -0.74382849 -0.52676368]\n",
      "\n",
      "Eigenvector 2\n",
      "Left Hand Side: [ 0.12430099 -0.98053324  0.79103825]\n",
      "RightHand Side: [ 0.12430099 -0.98053324  0.79103825]\n"
     ]
    }
   ],
   "source": [
    "#Explicitly show A*x = EigenValue*x\n",
    "print('Eigenvector 0')\n",
    "print('Left Hand Side:',A @ eigs[1][:,0])\n",
    "print('RightHand Side:',eigs[0][0]*eigs[1][:,0])\n",
    "\n",
    "print('\\nEigenvector 1')\n",
    "print('Left Hand Side:',A @ eigs[1][:,1])\n",
    "print('RightHand Side:',eigs[0][1]*eigs[1][:,1])\n",
    "\n",
    "print('\\nEigenvector 2')\n",
    "print('Left Hand Side:',A @ eigs[1][:,2])\n",
    "print('RightHand Side:',eigs[0][2]*eigs[1][:,2])"
   ]
  },
  {
   "cell_type": "markdown",
   "metadata": {},
   "source": [
    "# Q4b\n",
    "\n",
    "Without using NumPy's `la.eig()` (or similar functions), find the 4 eigenvalues and eigenvectors of the following matrix. Hint: Use the power method for the max eigenvalue (given below in `MaxEigenvalue`), the power method applied to the inverse for the smallest eigenvalue, and apply Hotelling's deflation twice to find the second and third eigenvalues/eigenvectors."
   ]
  },
  {
   "cell_type": "code",
   "execution_count": 23,
   "metadata": {},
   "outputs": [],
   "source": [
    "A = np.array([[2.65287619, 1.58615494, 1.47170961, 1.40586081],\n",
    "       [1.58615494, 1.17577323, 0.72084593, 0.79382861],\n",
    "       [1.47170961, 0.72084593, 1.18111969, 0.6654689 ],\n",
    "       [1.40586081, 0.79382861, 0.6654689 , 0.84502394]])"
   ]
  },
  {
   "cell_type": "code",
   "execution_count": 24,
   "metadata": {},
   "outputs": [],
   "source": [
    "def MaxEigenvalue(A, err):\n",
    "    (m,n) = A.shape\n",
    "    if(m != n):\n",
    "        print(\"Matrix must be square\")\n",
    "        return\n",
    "    \n",
    "    # Create a random initial vector\n",
    "    x = np.random.rand(m)\n",
    "    \n",
    "    lam = 0.1\n",
    "    lamprev = 1\n",
    "    while np.abs(1-lam/lamprev) > err:\n",
    "        Ax      = A@x\n",
    "        lamprev = lam\n",
    "        lam = la.norm(Ax,2)/la.norm(x,2)\n",
    "        x = Ax\n",
    "        \n",
    "    x = x/la.norm(x)\n",
    "    return (lam,x)"
   ]
  },
  {
   "cell_type": "code",
   "execution_count": 25,
   "metadata": {},
   "outputs": [],
   "source": [
    "# 4th, Max EigenValue/EigenVector \n",
    "EigenValue4 = MaxEigenvalue(A, 1e-15)[0]\n",
    "EigenVector4 = MaxEigenvalue(A, 1e-15)[1]"
   ]
  },
  {
   "cell_type": "code",
   "execution_count": 26,
   "metadata": {},
   "outputs": [],
   "source": [
    "# 3rd EigenVector\n",
    "EigenValueB1 = EigenValue4\n",
    "EigenVectorB1 = EigenVector4\n",
    "B = A - EigenValueB1*np.outer(EigenVectorB1, EigenVectorB1)\n",
    "\n",
    "EigenValue3 = MaxEigenvalue(B, 1e-15)[0]\n",
    "EigenVector3 = MaxEigenvalue(B, 1e-15)[1]"
   ]
  },
  {
   "cell_type": "code",
   "execution_count": 27,
   "metadata": {},
   "outputs": [],
   "source": [
    "# 2nd EigenVector\n",
    "EigenValueB2 = EigenValue3\n",
    "EigenVectorB2 = EigenVector3\n",
    "C = B - EigenValueB2*np.outer(EigenVectorB2, EigenVectorB2)\n",
    "EigenValue2 = MaxEigenvalue(C, 1e-15)[0]\n",
    "EigenVector2 = MaxEigenvalue(C, 1e-15)[1]"
   ]
  },
  {
   "cell_type": "code",
   "execution_count": 28,
   "metadata": {},
   "outputs": [],
   "source": [
    "# 1st EigenValue\n",
    "# Test to see if A is invertable\n",
    "if la.det(A) != 0: # A is Invertable\n",
    "    EigenValue1 = 1/MaxEigenvalue(la.inv(A), 1e-15)[0]"
   ]
  },
  {
   "cell_type": "code",
   "execution_count": 29,
   "metadata": {},
   "outputs": [],
   "source": [
    "# 1st EigenVector\n",
    "# Can't get MinEigenvalueSymmetricPositiveDefinite() from notes to work properly, so take 3rd iteration of the Power Rule instead\n",
    "EigenValueB1 = EigenValue2\n",
    "EigenVectorB1 = EigenVector2\n",
    "D = C - EigenValueB1*np.outer(EigenVectorB1, EigenVectorB1)\n",
    "EigenVector1 = MaxEigenvalue(D, 1e-15)[1]"
   ]
  },
  {
   "cell_type": "markdown",
   "metadata": {},
   "source": [
    "Check your answers against Numpy's results from `la.eig(A)`"
   ]
  },
  {
   "cell_type": "code",
   "execution_count": 30,
   "metadata": {},
   "outputs": [
    {
     "name": "stdout",
     "output_type": "stream",
     "text": [
      "EigenValue1:\n",
      " Power Method: 0.0015297972 \n",
      " NumPy:        0.0015297972\n",
      "\n",
      "EigenValue2:\n",
      " Power Method: 0.1986227827 \n",
      " NumPy:        0.1986227827\n",
      "\n",
      "EigenValue3:\n",
      " Power Method: 0.4816692703 \n",
      " NumPy:        0.4816692703\n",
      "\n",
      "EigenValue4:\n",
      " Power Method: 5.1729711998 \n",
      " NumPy:        5.1729711998\n",
      "\n",
      "EigenVector1: [0.68301529 0.34802856 0.328043   0.55204531]\n",
      "NumPy         [0.68301529 0.34802856 0.328043   0.55204531]\n",
      "\n",
      "EigenVector2: [0.14168212 0.64758012 0.22152223 0.71518813]\n",
      "NumPy         [0.14168212 0.64758011 0.22152224 0.71518814]\n",
      "\n",
      "EigenVector3: [0.04054567 0.52331842 0.82477029 0.21035171]\n",
      "NumPy         [0.04054567 0.52331842 0.82477029 0.21035171]\n",
      "\n",
      "EigenVector4: [0.71538265 0.43087578 0.40381884 0.37350243]\n",
      "NumPy         [0.71538265 0.43087578 0.40381884 0.37350243]\n"
     ]
    }
   ],
   "source": [
    "EigenSystem = la.eig(A)\n",
    "sortedEigenSystem = np.sort(EigenSystem[0])\n",
    "\n",
    "#EigenValues\n",
    "print(\"EigenValue1:\\n Power Method: %.10f \\n NumPy:        %.10f\\n\" %(EigenValue1,sortedEigenSystem[0]))\n",
    "print(\"EigenValue2:\\n Power Method: %.10f \\n NumPy:        %.10f\\n\" %(EigenValue2,sortedEigenSystem[1]))\n",
    "print(\"EigenValue3:\\n Power Method: %.10f \\n NumPy:        %.10f\\n\" %(EigenValue3,sortedEigenSystem[2]))\n",
    "print(\"EigenValue4:\\n Power Method: %.10f \\n NumPy:        %.10f\\n\" %(EigenValue4,sortedEigenSystem[3]))\n",
    "\n",
    "#EigenVectors\n",
    "print(\"EigenVector1:\", abs(EigenVector1))\n",
    "print('NumPy        ', abs(EigenSystem[1][:,1]))\n",
    "\n",
    "print(\"\\nEigenVector2:\", abs(EigenVector2))\n",
    "print('NumPy        ', abs(EigenSystem[1][:,2]))\n",
    "\n",
    "print(\"\\nEigenVector3:\", abs(EigenVector3))\n",
    "print('NumPy        ', abs(EigenSystem[1][:,3]))\n",
    "\n",
    "print(\"\\nEigenVector4:\", abs(EigenVector4))\n",
    "print('NumPy        ', abs(EigenSystem[1][:,0]))"
   ]
  },
  {
   "cell_type": "markdown",
   "metadata": {},
   "source": [
    "Commit your notebook to git and push it to GitHub. Upload your completed assignment to BrightSpace."
   ]
  }
 ],
 "metadata": {
  "kernelspec": {
   "display_name": "Python 3",
   "language": "python",
   "name": "python3"
  },
  "language_info": {
   "codemirror_mode": {
    "name": "ipython",
    "version": 3
   },
   "file_extension": ".py",
   "mimetype": "text/x-python",
   "name": "python",
   "nbconvert_exporter": "python",
   "pygments_lexer": "ipython3",
   "version": "3.8.3"
  }
 },
 "nbformat": 4,
 "nbformat_minor": 2
}
