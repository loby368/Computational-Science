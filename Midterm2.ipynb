{
 "cells": [
  {
   "cell_type": "markdown",
   "metadata": {},
   "source": [
    "# ACM20030 - Midterm 2 - 2020\n",
    "\n",
    "This midterm exam starts at 5pm on Monday 7th of December and lasts **50 minutes** until 5:50pm. Ten additional minutes are given at the end for you to upload the `Midterm2.ipynb` to BrightSpace by 6pm.\n",
    "\n",
    "Save your notebook regularly as you are solving the problems.\n",
    "\n",
    "I recommend you have a pen and paper handy to make small calculations (these do not need to be handed in).\n",
    "\n",
    "The marks for each question are given in square brackets at the start of each question. The total marks for the test is 31.\n",
    "\n",
    "You must complete the test indivudually. No contact with other class members, or anyone else, is allowed during the test.\n",
    "\n",
    "When you finish the test you must upload your completed `Midterm2.ipynb` to BrightSpace. You can find the place to upload the file under the Assessments Tab -> Midterm2.\n",
    "\n",
    "If there are any issues with uploading the midterm to BrightSpace. Please email me your completed Midterm2.ipynb before 6pm. My email address is niels.warburton@ucd.ie. Please include your student number if you email the test to me.\n",
    "\n",
    "---\n",
    "\n",
    "If you find it useful to do so you may view the [course examples](https://github.com/nielsw2/ACM20030-Examples) for reference. You may also view the NumPy and Matplotlib documentation if you want.  You should not use the internet to search for solutions. It is usually quite obvious when a student hands in code they have copied from, e.g., StackExchange. Please do not do this. If you hand in an answer that is copied from a webpage you will receive zero marks for that entire question.\n",
    "\n",
    "You **may not** use any other Python libraries other than NumPy (including linalg) and Matplotlib. \n",
    "\n",
    "Please enter your student number in the cell below and run the two cells below that to load the libraries. By entering your student number below you agree to not work with, copy from, or plagarise anyone else during the test."
   ]
  },
  {
   "cell_type": "code",
   "execution_count": 1,
   "metadata": {},
   "outputs": [],
   "source": [
    "# Enter student number below\n",
    "# 18338601"
   ]
  },
  {
   "cell_type": "code",
   "execution_count": 2,
   "metadata": {},
   "outputs": [],
   "source": [
    "# Import NumPy, linalg and matplotlib\n",
    "import numpy as np\n",
    "from numpy import linalg as la\n",
    "import matplotlib.pyplot as plt"
   ]
  },
  {
   "cell_type": "code",
   "execution_count": 3,
   "metadata": {},
   "outputs": [],
   "source": [
    "# The below two lines set the default size and font size for matplotlib\n",
    "plt.rcParams['figure.figsize'] = (16.0, 10.0)\n",
    "plt.rcParams.update({'font.size': 22})"
   ]
  },
  {
   "cell_type": "markdown",
   "metadata": {},
   "source": [
    "# Question 1: ordinary differential equations (ODEs)\n",
    "\n",
    "In the lectures we looked at RK2 and RK4 Runge-Kutta methods for solving ordinary differential equations of the form\n",
    "\n",
    "$$ y'(x) = f(x,y)$$\n",
    "\n",
    "Below is the algorithm for an **RK3** method:\n",
    "\n",
    "\\begin{align}\n",
    "    x_{i+1} &= x_i + \\Delta x \\\\\n",
    "    k_1 &= f(x_i, y_i) \\\\\n",
    "    k_2 &= f\\left(x_i + \\tfrac{\\Delta x}{2}, y_i + \\tfrac{\\Delta x}{2} k_1 \\right) \\\\\n",
    "    k_3 &= f\\left(x_i + \\Delta x, y_i + \\Delta x(2k_2 - k_1) \\right) \\\\\n",
    "    y_{i+1} &= y_i + \\tfrac{\\Delta x}{6}(k_1 + 4 k_2 + k_3) \n",
    "\\end{align}"
   ]
  },
  {
   "cell_type": "markdown",
   "metadata": {},
   "source": [
    "## Q1a [2 marks]\n",
    "\n",
    "Is this RK3 algorithm an explicit or implicit method? Justify your answer."
   ]
  },
  {
   "cell_type": "code",
   "execution_count": 4,
   "metadata": {},
   "outputs": [],
   "source": [
    "# Give you answer below\n",
    "# The Rk3 algorithm is an explicit method because it explicitly uses yi and xi to calculate yi+1\n",
    "# yi+1 does not contaiun the term yi+1 to the right of the equals sign, only yi and xi\n",
    "# In other words, yi+1 can be calculated without having already needed to calculate yi+1"
   ]
  },
  {
   "cell_type": "markdown",
   "metadata": {},
   "source": [
    "## Q1b [5 marks]\n",
    "\n",
    "Complete the code below to implement the RK3 method"
   ]
  },
  {
   "cell_type": "code",
   "execution_count": 5,
   "metadata": {},
   "outputs": [],
   "source": [
    "def RK3(f, dx, x0, y0, imax):\n",
    "    xi = x0\n",
    "    yi = y0\n",
    "    i = 0\n",
    "    while i < imax:\n",
    "        k1 = f(xi, yi)\n",
    "        k2 = f(xi + dx/2, yi+(dx/2)*k1)\n",
    "        k3 = f(xi + dx, yi + dx*(2*k2 - k1))\n",
    "        \n",
    "        yi = yi + (dx/6)*(k1 + 4*k2 + k3)\n",
    "        xi += dx\n",
    "        i  += 1\n",
    "        \n",
    "    return [xi, yi]"
   ]
  },
  {
   "cell_type": "markdown",
   "metadata": {},
   "source": [
    "## Q1c [3 marks]\n",
    "\n",
    "Test you RK3 function to find the solution, $y(x)$, at $x=1$ for the following ODE\n",
    "\n",
    "$$y'(x) = -2x - y\\quad\\text{where}\\quad y(0) = -1$$\n",
    "\n",
    "Use 1000 steps to find the solution."
   ]
  },
  {
   "cell_type": "code",
   "execution_count": 6,
   "metadata": {},
   "outputs": [],
   "source": [
    "def f(x, y):\n",
    "    return -2*x - y"
   ]
  },
  {
   "cell_type": "code",
   "execution_count": 7,
   "metadata": {},
   "outputs": [
    {
     "data": {
      "text/plain": [
       "-1.103638323468305"
      ]
     },
     "execution_count": 7,
     "metadata": {},
     "output_type": "execute_result"
    }
   ],
   "source": [
    "x = 1\n",
    "\n",
    "dx = 1/1000\n",
    "imax = x/dx\n",
    "\n",
    "solution = RK3(f, dx, 0, -1, imax)\n",
    "\n",
    "#Solution at x = 1: Note, y value is second number in array\n",
    "solution[1]"
   ]
  },
  {
   "cell_type": "markdown",
   "metadata": {},
   "source": [
    "## Q1d [2 marks]\n",
    "\n",
    "Find the relative difference between you numerical solution at $x=1$ and the true result given by the analytic solution to the ODE:\n",
    "\n",
    "$$ y(x) = 2 - 3e^{-x} - 2x$$"
   ]
  },
  {
   "cell_type": "code",
   "execution_count": 8,
   "metadata": {},
   "outputs": [],
   "source": [
    "def y(x):\n",
    "    return 2 - 3*np.exp(-x) - 2*x"
   ]
  },
  {
   "cell_type": "code",
   "execution_count": 9,
   "metadata": {},
   "outputs": [
    {
     "data": {
      "text/plain": [
       "-4.6022075039786614e-11"
      ]
     },
     "execution_count": 9,
     "metadata": {},
     "output_type": "execute_result"
    }
   ],
   "source": [
    "y(1) - solution[1]"
   ]
  },
  {
   "cell_type": "markdown",
   "metadata": {},
   "source": [
    "# Question 2 : numerical integration\n",
    "\n",
    "Use the below `NIntegrate` function to answer the Q2 questions."
   ]
  },
  {
   "cell_type": "code",
   "execution_count": 10,
   "metadata": {},
   "outputs": [],
   "source": [
    "def NIntegrate(f, a, b, N, method='Simpsons'):\n",
    "    dx = (b-a)/N\n",
    "    xi = a\n",
    "    i = 0\n",
    "    area = 0\n",
    "    while i < N:\n",
    "        if(method == 'Simpsons'):\n",
    "            area += dx/6*(f(xi) + 4*f((2*xi+dx)/2) + f(xi+dx))\n",
    "        elif(method == 'midpoint'):\n",
    "            area += dx * f(xi+dx/2)\n",
    "        elif(method == 'trapezoidal'):\n",
    "            area += dx/2 * (f(xi) + f(xi+dx))\n",
    "        xi += dx\n",
    "        i+= 1\n",
    "    return area"
   ]
  },
  {
   "cell_type": "markdown",
   "metadata": {},
   "source": [
    "## Q2a [3 marks]\n",
    "\n",
    "Numerically evaluate the following integral using the **midpoint** method with 1000 strips\n",
    "\n",
    "$$\\int_0^{\\pi/2} \\sin(2x)\\,dx $$\n",
    "\n",
    "Also compute the relative error with respect to the true answer"
   ]
  },
  {
   "cell_type": "code",
   "execution_count": 11,
   "metadata": {},
   "outputs": [],
   "source": [
    "def f(x):\n",
    "    return np.sin(2*x)"
   ]
  },
  {
   "cell_type": "code",
   "execution_count": 12,
   "metadata": {},
   "outputs": [
    {
     "data": {
      "text/plain": [
       "1.000000411233647"
      ]
     },
     "execution_count": 12,
     "metadata": {},
     "output_type": "execute_result"
    }
   ],
   "source": [
    "NIntegrate(f, 0, np.pi/2, 1000, 'midpoint')"
   ]
  },
  {
   "cell_type": "code",
   "execution_count": 13,
   "metadata": {},
   "outputs": [
    {
     "data": {
      "text/plain": [
       "1.0"
      ]
     },
     "execution_count": 13,
     "metadata": {},
     "output_type": "execute_result"
    }
   ],
   "source": [
    "# True Answer\n",
    "TrueAns = -0.5*np.cos(np.pi) + 0.5*np.cos(0)\n",
    "TrueAns"
   ]
  },
  {
   "cell_type": "code",
   "execution_count": 14,
   "metadata": {},
   "outputs": [
    {
     "data": {
      "text/plain": [
       "-4.112336469130895e-07"
      ]
     },
     "execution_count": 14,
     "metadata": {},
     "output_type": "execute_result"
    }
   ],
   "source": [
    "# Relative Error\n",
    "TrueAns - NIntegrate(f, 0, np.pi/2, 1000, 'midpoint')"
   ]
  },
  {
   "cell_type": "markdown",
   "metadata": {},
   "source": [
    "## Q2b [4 marks]\n",
    "\n",
    "There is another (less efficient) form of Simpson's method known as the Simpson's 3/8ths rule. This rule gives the area for each strip as:\n",
    "\n",
    "$$ I_i = \\frac{\\Delta x}{8} \\left( f(x_i) + 3f\\left(x_i + \\tfrac{\\Delta x}{3}\\right) + 3f\\left(x_i + \\tfrac{2\\Delta x}{3}\\right) + f(x_i + \\Delta x)  \\right) $$\n",
    "\n",
    "Modify the `NIntegrate` function above to implement the Simpson's 3/8ths rule as a new optional method."
   ]
  },
  {
   "cell_type": "code",
   "execution_count": 15,
   "metadata": {},
   "outputs": [],
   "source": [
    "def NIntegrate(f, a, b, N, method='Simpsons'):\n",
    "    dx = (b-a)/N\n",
    "    xi = a\n",
    "    i = 0\n",
    "    area = 0\n",
    "    while i < N:\n",
    "        if(method == 'Simpsons'):\n",
    "            area += dx/6*(f(xi) + 4*f((2*xi+dx)/2) + f(xi+dx))\n",
    "        elif(method == 'midpoint'):\n",
    "            area += dx * f(xi+dx/2)\n",
    "        elif(method == 'trapezoidal'):\n",
    "            area += dx/2 * (f(xi) + f(xi+dx))\n",
    "        elif(method == 'Simpsons3/8'):\n",
    "            area += (dx/8)*(f(xi) + 3*f(xi + (dx/3)) + 3*f(xi + 2*dx/3) + f(xi + dx))\n",
    "        xi += dx\n",
    "        i+= 1\n",
    "    return area"
   ]
  },
  {
   "cell_type": "markdown",
   "metadata": {},
   "source": [
    "## Q2c [2 marks]\n",
    "\n",
    "Test your new method by evaluating the integral given in Q2a with 1000 strips. Compute the relative error with respect to the true answer. If your answer to part Q2b is correct you should find that your approximation to the integral is much more accurate than the result in Q2a computed using the midpoint method."
   ]
  },
  {
   "cell_type": "code",
   "execution_count": 16,
   "metadata": {},
   "outputs": [
    {
     "data": {
      "text/plain": [
       "1.0000000000000282"
      ]
     },
     "execution_count": 16,
     "metadata": {},
     "output_type": "execute_result"
    }
   ],
   "source": [
    "NIntegrate(f, 0, np.pi/2, 1000, 'Simpsons3/8')"
   ]
  },
  {
   "cell_type": "code",
   "execution_count": 17,
   "metadata": {},
   "outputs": [
    {
     "data": {
      "text/plain": [
       "-2.8199664825478976e-14"
      ]
     },
     "execution_count": 17,
     "metadata": {},
     "output_type": "execute_result"
    }
   ],
   "source": [
    "# New relative error\n",
    "TrueAns - NIntegrate(f, 0, np.pi/2, 1000, 'Simpsons3/8')"
   ]
  },
  {
   "cell_type": "markdown",
   "metadata": {},
   "source": [
    "## Q2d [4 marks]\n",
    "\n",
    "Let $h(x)$ be the following continous (but not smooth) function\n",
    "\n",
    "$$ h(x) = \\begin{cases} \n",
    "      \\sin(x) & x \\leq 0 \\\\\n",
    "      -x^2 & 0\\leq x \\leq 1 \\\\\n",
    "      -\\cos(x-1) & x \\geq 1 \n",
    "   \\end{cases} $$\n",
    "   \n",
    "Define a single function for $h(x)$ which may use `if`, `elif` and `else`. Then use the `NIntegrate` function to evaluate the following integral\n",
    "\n",
    "$$ \\int_{-1}^2 h(x)\\, dx $$\n",
    "\n",
    "using 3000 strips.\n",
    "\n",
    "Hint: for full marks perform the integration over three seperate regions and use 1000 strips per region."
   ]
  },
  {
   "cell_type": "code",
   "execution_count": 18,
   "metadata": {},
   "outputs": [],
   "source": [
    "def h(x):\n",
    "    if x <= 0:\n",
    "        return np.sin(x)\n",
    "    elif x>= 1:\n",
    "        return -np.cos(x-1)\n",
    "    else: # 0 <= x <= 1\n",
    "        return -(x**2)"
   ]
  },
  {
   "cell_type": "code",
   "execution_count": 19,
   "metadata": {},
   "outputs": [
    {
     "data": {
      "text/plain": [
       "-1.6345020122731242"
      ]
     },
     "execution_count": 19,
     "metadata": {},
     "output_type": "execute_result"
    }
   ],
   "source": [
    "# x <= 0\n",
    "I1 = NIntegrate(h, -1, 0, 1000, 'Simpsons3/8')\n",
    "\n",
    "# 0 <= x <= 1\n",
    "I2 = NIntegrate(h, 0, 1, 1000, 'Simpsons3/8')\n",
    "\n",
    "# x >= 1\n",
    "I3 = NIntegrate(h, 1, 2, 1000, 'Simpsons3/8')\n",
    "\n",
    "Integral = I1 + I2 + I3\n",
    "Integral"
   ]
  },
  {
   "cell_type": "code",
   "execution_count": 20,
   "metadata": {},
   "outputs": [
    {
     "data": {
      "text/plain": [
       "-1.634502012273122"
      ]
     },
     "execution_count": 20,
     "metadata": {},
     "output_type": "execute_result"
    }
   ],
   "source": [
    "# Just to check my answer, see what it returns when it is a performed as a single integral\n",
    "NIntegrate(h, -1, 2, 3000, 'Simpsons3/8')"
   ]
  },
  {
   "cell_type": "markdown",
   "metadata": {},
   "source": [
    "# Q3 eigensystems\n",
    "\n",
    "## Q3a [2 marks]\n",
    "\n",
    "Without computing the inverse or determinant of the matrix $M$ check if numerically inverting $M$ will lead to large numerical errors. You can use any function from `linalg` to make the check. Justify your answer"
   ]
  },
  {
   "cell_type": "code",
   "execution_count": 21,
   "metadata": {},
   "outputs": [],
   "source": [
    "M = np.array([\n",
    "    [0.755378492705379, 0.6134083399272159, 0.581809153982142],\n",
    "    [2.0255256015498575, 0.78939010095135, 0.7399156829587783],\n",
    "    [0.8467647392295856, 0.11732117401602271, 0.10540435265102421]])"
   ]
  },
  {
   "cell_type": "code",
   "execution_count": 22,
   "metadata": {},
   "outputs": [
    {
     "name": "stdout",
     "output_type": "stream",
     "text": [
      "Condition number of M:\t 1492169268492301.2\n"
     ]
    }
   ],
   "source": [
    "#Find the condition number (Larger Condition Numbers are ill-conditioned and close to singular)\n",
    "print(\"Condition number of M:\\t\", la.cond(M,2))"
   ]
  },
  {
   "cell_type": "code",
   "execution_count": 23,
   "metadata": {},
   "outputs": [],
   "source": [
    "#Because the condition number is so large, we can say that the matrix is ill-conditioned and inverting it will probably\n",
    "#lead to large numerical errors due to rounding in the inversion process."
   ]
  },
  {
   "cell_type": "markdown",
   "metadata": {},
   "source": [
    "## Q3b [4 marks]\n",
    "\n",
    "Let $\\lambda_i$ be the eigenvalues of the matrix $B$ and $e_i$ be the eigenvectors of $B$.\n",
    "\n",
    "For the matrix $B$ given below show that $P^{-1} B P = D$ where $D = \\text{diag}(\\lambda_1, \\lambda_2, \\lambda_3)$ and $P$ is a matrix whose **columns** are the eigenvectors of B. \n",
    "\n",
    "A good way to answer this question is to show that $P^{-1} B P - D = 0$ (to within machine precision).\n",
    "\n",
    "Reminder: the `la.eig()` function returns the eigenvalues and eigenvectors, and the eigenvectors are stored as the columns of a matrix.\n",
    "\n",
    "Hint: you might find `np.identity(n)` useful for constructing an $n\\times n$ identity matrix"
   ]
  },
  {
   "cell_type": "code",
   "execution_count": 24,
   "metadata": {},
   "outputs": [],
   "source": [
    "B = np.array([[1.7, 2.5, 2.4], [5.5, 1.2, 8.8], [6.1, 4.7, 2.4]])"
   ]
  },
  {
   "cell_type": "code",
   "execution_count": 25,
   "metadata": {},
   "outputs": [
    {
     "name": "stdout",
     "output_type": "stream",
     "text": [
      "Eigenvalues =  [11.30291674 -1.62005176 -4.38286498]\n",
      "\n",
      "Eigenvector 0 =  [-0.33892955 -0.71605374 -0.61024077]\n",
      "Eigenvector 1 =  [-0.67594817  0.71076563  0.19469535]\n",
      "Eigenvector 2 =  [ 0.18729717 -0.87820465  0.44008677]\n"
     ]
    }
   ],
   "source": [
    "eigs = la.eig(B)\n",
    "\n",
    "print(\"Eigenvalues = \", eigs[0])\n",
    "print(\"\\nEigenvector 0 = \", eigs[1][:,0]) #Eigenvectors are collumns of eigs[1]\n",
    "print(\"Eigenvector 1 = \", eigs[1][:,1])\n",
    "print(\"Eigenvector 2 = \", eigs[1][:,2])"
   ]
  },
  {
   "cell_type": "code",
   "execution_count": 26,
   "metadata": {},
   "outputs": [],
   "source": [
    "# Construct P and P Inverse\n",
    "P = eigs[1]\n",
    "Pinv = la.inv(P)"
   ]
  },
  {
   "cell_type": "code",
   "execution_count": 27,
   "metadata": {},
   "outputs": [
    {
     "data": {
      "text/plain": [
       "array([[11.30291674, -0.        , -0.        ],\n",
       "       [ 0.        , -1.62005176, -0.        ],\n",
       "       [ 0.        , -0.        , -4.38286498]])"
      ]
     },
     "execution_count": 27,
     "metadata": {},
     "output_type": "execute_result"
    }
   ],
   "source": [
    "# Construct D\n",
    "D = np.identity(3)*eigs[0]\n",
    "D"
   ]
  },
  {
   "cell_type": "code",
   "execution_count": 28,
   "metadata": {},
   "outputs": [
    {
     "data": {
      "text/plain": [
       "array([[ 1.24344979e-14,  4.44089210e-15, -3.10862447e-15],\n",
       "       [ 5.55111512e-15, -2.44249065e-15,  1.22124533e-15],\n",
       "       [-1.33226763e-15,  2.22044605e-16, -8.88178420e-16]])"
      ]
     },
     "execution_count": 28,
     "metadata": {},
     "output_type": "execute_result"
    }
   ],
   "source": [
    "# Proof Note: dot products instead of multiply signs\n",
    "Pinv@B@P - D"
   ]
  },
  {
   "cell_type": "markdown",
   "metadata": {},
   "source": [
    "# We can see that the resultant matrix is, within machine precision, the 0 matrix.\n",
    "# This means that $P^{-1} B P - D = 0$ is proven\n"
   ]
  },
  {
   "cell_type": "markdown",
   "metadata": {},
   "source": [
    "# Submission\n",
    "\n",
    "You must upload your completed `Midterm2.ipynb` to BrightSpace. You can find the place to upload the file under the Assessments Tab -> Midterm2.\n",
    "\n",
    "If there are any issues with uploading the midterm to BrightSpace. Please email me your completed Midterm2.ipynb. My email address is niels.warburton@ucd.ie."
   ]
  }
 ],
 "metadata": {
  "kernelspec": {
   "display_name": "Python 3",
   "language": "python",
   "name": "python3"
  },
  "language_info": {
   "codemirror_mode": {
    "name": "ipython",
    "version": 3
   },
   "file_extension": ".py",
   "mimetype": "text/x-python",
   "name": "python",
   "nbconvert_exporter": "python",
   "pygments_lexer": "ipython3",
   "version": "3.8.3"
  }
 },
 "nbformat": 4,
 "nbformat_minor": 2
}
