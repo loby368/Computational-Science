{
 "cells": [
  {
   "cell_type": "markdown",
   "metadata": {},
   "source": [
    "# ACM20030 - Midterm 2"
   ]
  },
  {
   "cell_type": "code",
   "execution_count": 1,
   "metadata": {},
   "outputs": [],
   "source": [
    "# Import NumPy and matplotlib\n",
    "import numpy as np\n",
    "import matplotlib.pyplot as plt"
   ]
  },
  {
   "cell_type": "code",
   "execution_count": 2,
   "metadata": {},
   "outputs": [],
   "source": [
    "# The below two lines set the default size and font size for matplotlib\n",
    "plt.rcParams['figure.figsize'] = (16.0, 10.0)\n",
    "plt.rcParams.update({'font.size': 22})"
   ]
  },
  {
   "cell_type": "markdown",
   "metadata": {},
   "source": [
    "# Question 0: ordinary differential equations\n",
    "\n",
    "All the below questions should be answered by using `RK2()` method below:"
   ]
  },
  {
   "cell_type": "code",
   "execution_count": 3,
   "metadata": {},
   "outputs": [],
   "source": [
    "def RK2(f, dx, x0, y0, imax):\n",
    "    xi = x0\n",
    "    yi = y0\n",
    "    i = 0\n",
    "    while i < imax:\n",
    "        k1 = dx*f(xi, yi)\n",
    "        k2 = dx*f(xi + dx, yi + k1)\n",
    "    \n",
    "        yi = yi + 0.5*(k1 + k2)\n",
    "                \n",
    "        xi += dx\n",
    "        i  += 1\n",
    "        \n",
    "    return [xi, yi]"
   ]
  },
  {
   "cell_type": "markdown",
   "metadata": {},
   "source": [
    "solve the following problems:\n",
    "\n",
    "## Q0a [5 marks]\n",
    "\n",
    "Numerically solve the first-order differential equation:\n",
    "\n",
    "$$ \\frac{dy}{dx} = \\frac{\\sqrt{1+2y}}{\\sqrt{1+2x}}$$\n",
    "\n",
    "with $y(0) = 2$ and find the value of $y(10)$. Use a stepsize of $\\Delta x = 0.01$"
   ]
  },
  {
   "cell_type": "code",
   "execution_count": 4,
   "metadata": {},
   "outputs": [],
   "source": [
    "def dydx(x, y):\n",
    "    return (np.sqrt(1+2*y)/np.sqrt(1+2*x))"
   ]
  },
  {
   "cell_type": "code",
   "execution_count": 5,
   "metadata": {},
   "outputs": [
    {
     "data": {
      "text/plain": [
       "16.42834153670337"
      ]
     },
     "execution_count": 5,
     "metadata": {},
     "output_type": "execute_result"
    }
   ],
   "source": [
    "#Input x value to give solution at this point:\n",
    "x = 10\n",
    "\n",
    "dx = 0.01\n",
    "imax = x/dx\n",
    "\n",
    "solution = RK2(dydx, dx, 0, 2, imax)\n",
    "\n",
    "#Solution at x = 10: Note, y value is second number in array\n",
    "solution[1]"
   ]
  },
  {
   "cell_type": "markdown",
   "metadata": {},
   "source": [
    "## Q0b [6 marks]\n",
    "\n",
    "By writing the following integral as a first-order differential equation, numeically evaluate:\n",
    "\n",
    "$$ \\int_0^b x\\sin(x^2)\\, dx$$\n",
    "\n",
    "where $b = \\sqrt{\\pi/2}$ using the RK2 function provided above. Use 1000 steps to make the calculation. Reminder: `np.pi` gives you the value of $\\pi$."
   ]
  },
  {
   "cell_type": "markdown",
   "metadata": {},
   "source": [
    "<b> x0 comes from lower condition, y0 comes from no coefficient before integral E.g: $5 + \\int xsin(x^2)$ would return 5 when x=0, => y0 would = 5"
   ]
  },
  {
   "cell_type": "code",
   "execution_count": 6,
   "metadata": {},
   "outputs": [],
   "source": [
    "# y'(x) = f(x) that is simply the equation inside the integral\n",
    "def dydx(x, y):\n",
    "    return x*np.sin(x**2)"
   ]
  },
  {
   "cell_type": "code",
   "execution_count": 7,
   "metadata": {},
   "outputs": [
    {
     "data": {
      "text/plain": [
       "0.5008599190613202"
      ]
     },
     "execution_count": 7,
     "metadata": {},
     "output_type": "execute_result"
    }
   ],
   "source": [
    "#Input x value to give solution at this point:\n",
    "b = np.sqrt(np.pi/2)\n",
    "\n",
    "dx = 1/1000\n",
    "imax = b/dx\n",
    "solution = RK2(dydx, dx, 0, 0, imax)\n",
    "\n",
    "# Solution to integral is y value of rk2 solution (2nd value in output array)\n",
    "solution[1]"
   ]
  },
  {
   "cell_type": "markdown",
   "metadata": {},
   "source": [
    "# Q0c [7 marks]\n",
    "\n",
    "By writing it in first-order form, solve $$ \\frac{d^2y}{d x^2} = -\\frac{1}{10}y + \\frac{y}{x} $$\n",
    "\n",
    "with $y(5) = 0, y'(5) = 1$. Use 1000 steps to evaluate the solution at $x=15$."
   ]
  },
  {
   "cell_type": "markdown",
   "metadata": {},
   "source": [
    "### First Order Form\n",
    "$$v(x) = y'(x) = 0$$ <br>\n",
    "$$v'(x) = y''(x) = -\\frac{1}{10}y + \\frac{y}{x}$$"
   ]
  },
  {
   "cell_type": "code",
   "execution_count": 8,
   "metadata": {},
   "outputs": [
    {
     "data": {
      "text/plain": [
       "23.12203530397812"
      ]
     },
     "execution_count": 8,
     "metadata": {},
     "output_type": "execute_result"
    }
   ],
   "source": [
    "#Numerical Solution\n",
    "def f2(x, y):\n",
    "    return np.array([y[1], -y[0]/10 + y[0]/x])\n",
    "\n",
    "# Input x Value (***Our x value is the number of steps from the initial position of 5 => x=10 gives us 15)\n",
    "x = 15-5\n",
    "dx = 1/1000\n",
    "imax = x/dx\n",
    "\n",
    "A = RK2(f2, dx, 5, [5, 1], imax)\n",
    "A[1][0]"
   ]
  },
  {
   "cell_type": "code",
   "execution_count": 9,
   "metadata": {},
   "outputs": [],
   "source": [
    "# Import NumPy, linalg and matplotlib\n",
    "import numpy as np\n",
    "from numpy import linalg as la\n",
    "import matplotlib.pyplot as plt"
   ]
  },
  {
   "cell_type": "code",
   "execution_count": 10,
   "metadata": {},
   "outputs": [],
   "source": [
    "# The below two lines set the default size and font size for matplotlib\n",
    "plt.rcParams['figure.figsize'] = (16.0, 10.0)\n",
    "plt.rcParams.update({'font.size': 22})"
   ]
  },
  {
   "cell_type": "markdown",
   "metadata": {},
   "source": [
    "# Question 1: numerical integration\n",
    "\n",
    "Use the `SimpsonsIntegrate` function below when answer this question"
   ]
  },
  {
   "cell_type": "code",
   "execution_count": 11,
   "metadata": {},
   "outputs": [],
   "source": [
    "def SimpsonsIntegrate(f, a, b, N):\n",
    "    dx = (b-a)/N\n",
    "    xi = a\n",
    "    i = 0\n",
    "    area = 0\n",
    "    while i < N:\n",
    "        area += dx/6*(f(xi) + 4*f((2*xi+dx)/2) + f(xi+dx))\n",
    "        xi += dx\n",
    "        i+= 1\n",
    "        \n",
    "    return area"
   ]
  },
  {
   "cell_type": "markdown",
   "metadata": {},
   "source": [
    "## Q1a [4 marks]\n",
    "\n",
    "Numerically evaluate $$\\int_0^1 \\sin(x)\\, dx$$\n",
    "\n",
    "Compare your answer to the analytic result and use enough strips in the integration so that the relative error drops below `1e-10`, and show your result is at least this accurate."
   ]
  },
  {
   "cell_type": "code",
   "execution_count": 12,
   "metadata": {},
   "outputs": [
    {
     "name": "stdout",
     "output_type": "stream",
     "text": [
      "Integral = 0.4596976941942121\n",
      "Error = 6.235184590863696e-11\n"
     ]
    }
   ],
   "source": [
    "def f(x):\n",
    "    return np.sin(x)\n",
    "\n",
    "Integral = SimpsonsIntegrate(f, 0, 1, 40)\n",
    "print('Integral =', Integral)\n",
    "\n",
    "#Show accuracy:\n",
    "Real_Value = -np.cos(1) + np.cos(0)\n",
    "print('Error =', Integral - Real_Value)"
   ]
  },
  {
   "cell_type": "markdown",
   "metadata": {},
   "source": [
    "## Q1b [6 marks]\n",
    "\n",
    "By computing the numerical integral using N=10, 100 and 1000 strips, show that the Simpsons method converges as $N^{-4}$ to the correct answer for the above integral. Do this by plotting the difference between the approximations and the true result on a log-log plot, along with a $N^{-4}$ reference line."
   ]
  },
  {
   "cell_type": "code",
   "execution_count": 13,
   "metadata": {},
   "outputs": [],
   "source": [
    "imax = 3\n",
    "\n",
    "ErrorSimp = np.empty((imax,2));\n",
    "\n",
    "i = 0\n",
    "N = 10\n",
    "while i < imax:\n",
    "    ErrorSimp[i,0] = N\n",
    "    ErrorSimp[i,1] = np.abs(SimpsonsIntegrate(f, 0, 1, N) - Real_Value)\n",
    "    N *= 2\n",
    "    i += 1"
   ]
  },
  {
   "cell_type": "code",
   "execution_count": 14,
   "metadata": {},
   "outputs": [
    {
     "data": {
      "image/png": "[encoded data removed]",
      "text/plain": [
       "<Figure size 1152x720 with 1 Axes>"
      ]
     },
     "metadata": {
      "needs_background": "light"
     },
     "output_type": "display_data"
    }
   ],
   "source": [
    "x = np.linspace(10,1e4)\n",
    "N4ref = 0.001*x**-4\n",
    "\n",
    "plt.grid(True)\n",
    "plt.xscale('log')\n",
    "plt.yscale('log')\n",
    "plt.xlabel('N')\n",
    "plt.ylabel('error')\n",
    "plt.plot(x,N4ref, color='green')\n",
    "\n",
    "plt.scatter(ErrorSimp[:,0], ErrorSimp[:,1])\n",
    "plt.legend(['$N^{-4}$ reference','Simpsons Error']);"
   ]
  },
  {
   "cell_type": "markdown",
   "metadata": {},
   "source": [
    "# Question 2 : matrix norms"
   ]
  },
  {
   "cell_type": "markdown",
   "metadata": {},
   "source": [
    "## Q2a [4 marks]\n",
    "\n",
    "The dot product of two vectors $a$, $b$, each of length $n$ is given by\n",
    "\n",
    "$$ a\\cdot b = \\sum_{i=1}^n a_i b_i$$\n",
    "\n",
    "Two sample vectors and their dot product are given below"
   ]
  },
  {
   "cell_type": "code",
   "execution_count": 15,
   "metadata": {},
   "outputs": [
    {
     "name": "stdout",
     "output_type": "stream",
     "text": [
      "The dot product of a and b is: 31.56\n"
     ]
    }
   ],
   "source": [
    "a = np.array([4.5, 6.7, 6.7])\n",
    "b = np.array([8.8, -4.5, 3.3])\n",
    "\n",
    "print(\"The dot product of a and b is:\", np.dot(a,b))"
   ]
  },
  {
   "cell_type": "markdown",
   "metadata": {},
   "source": [
    "Complete the `DotProduct` function below to compute the dot product by using a loop (do not use `np.dot()` or a similar function). Test your answer on the vectors $a$ and $b$."
   ]
  },
  {
   "cell_type": "code",
   "execution_count": 16,
   "metadata": {},
   "outputs": [],
   "source": [
    "def DotProduct(a,b):\n",
    "    i = 0\n",
    "    dotsum = 0\n",
    "    while i < np.size(a):\n",
    "        dotsum += a[i]*b[i]\n",
    "        i +=1\n",
    "    return dotsum"
   ]
  },
  {
   "cell_type": "code",
   "execution_count": 17,
   "metadata": {},
   "outputs": [
    {
     "name": "stdout",
     "output_type": "stream",
     "text": [
      "31.56\n"
     ]
    }
   ],
   "source": [
    "print(DotProduct(a, b))"
   ]
  },
  {
   "cell_type": "markdown",
   "metadata": {},
   "source": [
    "## Q2b [6 marks]\n",
    "\n",
    "In the lectures we looked at the $L^2$-norm. Another matrix norm is the Frobenius norm, $\\lVert \\cdot \\rVert_F$ of a $m\\times n$ matrix $A$ is defined as \n",
    "\n",
    "$$ \\lVert A \\rVert_F = \\sqrt{\\sum_{i=1}^m \\sum_{j=1}^n |a_{ij}|^2 }$$\n",
    "\n",
    "Complete the `FrobeniusNorm()` function below make it compute the Frobenius norm of a matrix using loops (don't use `la.norm`, or a similar function). "
   ]
  },
  {
   "cell_type": "code",
   "execution_count": 21,
   "metadata": {},
   "outputs": [],
   "source": [
    "def FrobeniusNorm(A):\n",
    "    (r, c) = A.shape\n",
    "    norm = 0\n",
    "    i = 0\n",
    "    while i < r:\n",
    "        j = 0\n",
    "        while j < c:\n",
    "            norm += (A[i,j])**2\n",
    "            j += 1\n",
    "        i += 1\n",
    "        \n",
    "    return np.sqrt(norm)"
   ]
  },
  {
   "cell_type": "markdown",
   "metadata": {},
   "source": [
    "Test your function using the below matrix. The `la.norm(A)` function returns the value of the Frobenius norm. You can use this to compare against your answer."
   ]
  },
  {
   "cell_type": "code",
   "execution_count": 22,
   "metadata": {},
   "outputs": [],
   "source": [
    "A = np.array([[1.4,-3.5,4.6],[4.5, 3.5, 6.6],[-7.7,5.5,6.6],[4.5,-4.5,4.3]])"
   ]
  },
  {
   "cell_type": "code",
   "execution_count": 24,
   "metadata": {},
   "outputs": [
    {
     "name": "stdout",
     "output_type": "stream",
     "text": [
      "17.421825392306054\n",
      "17.421825392306054\n"
     ]
    }
   ],
   "source": [
    "print(la.norm(A))\n",
    "print(FrobeniusNorm(A))"
   ]
  },
  {
   "cell_type": "markdown",
   "metadata": {},
   "source": [
    "# Question 3: eigensystems\n",
    "\n",
    "\n",
    "## Q3a [4 marks]\n",
    "\n",
    "\n",
    "Using `la.eig()` compute the eigenvalues and eigenvectors of the matrix B below. Use a `for` loop that evaluates the left hand side of\n",
    "\n",
    "$$ B.x - \\lambda x =0$$\n",
    "\n",
    "for each eigenvalue/eigenvector pair.\n",
    "\n",
    "Reminder: `la.eig()` returns the eigenvalues and eigenvectors, and the eigenvectors are stored as the columns of a matrix.\n",
    "\n",
    "Suggestion: write code that first tests one eigenvalue/eigenvector pair then write the loop that tests each pair in turn"
   ]
  },
  {
   "cell_type": "markdown",
   "metadata": {},
   "source": [
    "# X = Eigenvector\n",
    "# $\\lambda = Eigenvalue$"
   ]
  },
  {
   "cell_type": "code",
   "execution_count": 26,
   "metadata": {},
   "outputs": [],
   "source": [
    "B = np.array([[1.3, 4.5, 5.4], [5.6, 4.5 ,7.8], [6.0, 4.5,0.9]])"
   ]
  },
  {
   "cell_type": "code",
   "execution_count": 55,
   "metadata": {},
   "outputs": [
    {
     "name": "stdout",
     "output_type": "stream",
     "text": [
      "Eigenvalues = [13.50189951 -2.23566197 -4.56623754]\n",
      "\n",
      "Eigenvector 1\n",
      " [-0.48410682 -0.72528947 -0.48948522]\n",
      "\n",
      "Eigenvector 2\n",
      " [-0.39044521  0.81669186 -0.42493169]\n",
      "\n",
      "Eigenvector 3\n",
      " [-0.39740521 -0.44498051  0.80253439]\n"
     ]
    }
   ],
   "source": [
    "eigenSystem = la.eig(B)\n",
    "print(\"Eigenvalues =\", eigenSystem[0])\n",
    "for i in range(3):\n",
    "    print(\"\\nEigenvector %d\\n\" %(i+1), eigenSystem[1][:,i])   # The eigen vectors are the columns of this matrix"
   ]
  },
  {
   "cell_type": "code",
   "execution_count": 68,
   "metadata": {},
   "outputs": [
    {
     "name": "stdout",
     "output_type": "stream",
     "text": [
      "[-2.66453526e-15  1.77635684e-15  3.55271368e-15]\n",
      "[-5.55111512e-16 -1.55431223e-15 -1.55431223e-15]\n",
      "[ 8.88178420e-16 -3.99680289e-15 -8.88178420e-16]\n"
     ]
    }
   ],
   "source": [
    "for i in range(3):\n",
    "    result = np.dot(B, eigenSystem[1][:,i]) - eigenSystem[0][i]*eigenSystem[1][:,i]\n",
    "    print(result)"
   ]
  },
  {
   "cell_type": "markdown",
   "metadata": {},
   "source": [
    "## Q3b [2 marks]\n",
    "\n",
    "As we discused in the lectures, one way to define the condition number of a matrix is given by \n",
    "\n",
    "$$\\kappa(A) = \\lVert A \\lVert_2 \\lVert A^{-1} \\rVert_2 $$\n",
    "\n",
    "Compute $\\kappa(B)$ using this formula and where `B` is the matrix defined in Q3a. You may use `la.inv(B)` and `la.norm(B,2)` in this question.\n",
    "\n",
    "Hint: you can check you result against `la.cond(B,2)`"
   ]
  },
  {
   "cell_type": "code",
   "execution_count": 69,
   "metadata": {},
   "outputs": [
    {
     "data": {
      "text/plain": [
       "6.783752998324849"
      ]
     },
     "execution_count": 69,
     "metadata": {},
     "output_type": "execute_result"
    }
   ],
   "source": [
    "la.cond(B)"
   ]
  },
  {
   "cell_type": "code",
   "execution_count": 72,
   "metadata": {},
   "outputs": [
    {
     "data": {
      "text/plain": [
       "6.783752998324855"
      ]
     },
     "execution_count": 72,
     "metadata": {},
     "output_type": "execute_result"
    }
   ],
   "source": [
    "Binv = la.inv(B)\n",
    "la.norm(B,2)*la.norm(Binv, 2)"
   ]
  },
  {
   "cell_type": "markdown",
   "metadata": {},
   "source": [
    "## Q3c [4 marks]\n",
    "\n",
    "As we discussed in the lectures you can also compute the condition number via \n",
    "\n",
    "$$\\kappa(A) = \\sqrt{\\frac{\\lambda_\\max}{\\lambda_\\min}}$$\n",
    "\n",
    "where $\\lambda_{\\max/\\min}$ are the minimum and maximum eigenvalues of $A^T A$\n",
    "\n",
    "Using `np.transpose()`, `la.eig()` to compute the eigenvalues, compute the condition number of $A$ using the above formula."
   ]
  },
  {
   "cell_type": "code",
   "execution_count": 76,
   "metadata": {},
   "outputs": [
    {
     "data": {
      "text/plain": [
       "6.783752998324856"
      ]
     },
     "execution_count": 76,
     "metadata": {},
     "output_type": "execute_result"
    }
   ],
   "source": [
    "eigenvalues = la.eig(B.T@B)[0]\n",
    "lmax = np.max(eigenvalues)\n",
    "lmin = np.min(eigenvalues)\n",
    "\n",
    "#Condition Number\n",
    "np.sqrt(lmax/lmin)"
   ]
  }
 ],
 "metadata": {
  "kernelspec": {
   "display_name": "Python 3",
   "language": "python",
   "name": "python3"
  },
  "language_info": {
   "codemirror_mode": {
    "name": "ipython",
    "version": 3
   },
   "file_extension": ".py",
   "mimetype": "text/x-python",
   "name": "python",
   "nbconvert_exporter": "python",
   "pygments_lexer": "ipython3",
   "version": "3.8.3"
  }
 },
 "nbformat": 4,
 "nbformat_minor": 2
}
